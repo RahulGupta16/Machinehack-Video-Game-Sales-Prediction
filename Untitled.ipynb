{
 "cells": [
  {
   "cell_type": "code",
   "execution_count": 76,
   "metadata": {},
   "outputs": [],
   "source": [
    "import pandas as pd\n",
    "import re\n",
    "import numpy as np\n",
    "import matplotlib.pyplot as plt\n",
    "import seaborn as sns\n",
    "from sklearn.preprocessing import LabelEncoder, MinMaxScaler, StandardScaler\n",
    "from sklearn.linear_model import LinearRegression\n",
    "from sklearn.metrics import mean_squared_error\n",
    "from sklearn.model_selection import StratifiedKFold, KFold\n",
    "from sklearn.tree import DecisionTreeRegressor\n",
    "from sklearn.ensemble import RandomForestRegressor, AdaBoostRegressor,BaggingRegressor, GradientBoostingRegressor, ExtraTreesRegressor,StackingRegressor,VotingRegressor\n",
    "from sklearn.svm import SVR\n",
    "import xgboost as xgb\n",
    "import lightgbm as lgb\n",
    "import warnings\n",
    "warnings.filterwarnings(action='ignore')"
   ]
  },
  {
   "cell_type": "code",
   "execution_count": 77,
   "metadata": {},
   "outputs": [],
   "source": [
    "train = pd.read_csv(r'C:\\Users\\Rahul\\Desktop\\Machinehack-Video-Game-Sales-Prediction\\Train.csv')\n",
    "test = pd.read_csv(r'C:\\Users\\Rahul\\Desktop\\Machinehack-Video-Game-Sales-Prediction\\Test.csv')\n",
    "sample = pd.read_csv(r'C:\\Users\\Rahul\\Desktop\\Machinehack-Video-Game-Sales-Prediction\\Sample_Submission.csv')"
   ]
  },
  {
   "cell_type": "code",
   "execution_count": 78,
   "metadata": {},
   "outputs": [
    {
     "data": {
      "text/html": [
       "<div>\n",
       "<style scoped>\n",
       "    .dataframe tbody tr th:only-of-type {\n",
       "        vertical-align: middle;\n",
       "    }\n",
       "\n",
       "    .dataframe tbody tr th {\n",
       "        vertical-align: top;\n",
       "    }\n",
       "\n",
       "    .dataframe thead th {\n",
       "        text-align: right;\n",
       "    }\n",
       "</style>\n",
       "<table border=\"1\" class=\"dataframe\">\n",
       "  <thead>\n",
       "    <tr style=\"text-align: right;\">\n",
       "      <th></th>\n",
       "      <th>ID</th>\n",
       "      <th>CONSOLE</th>\n",
       "      <th>YEAR</th>\n",
       "      <th>CATEGORY</th>\n",
       "      <th>PUBLISHER</th>\n",
       "      <th>RATING</th>\n",
       "      <th>CRITICS_POINTS</th>\n",
       "      <th>USER_POINTS</th>\n",
       "      <th>SalesInMillions</th>\n",
       "    </tr>\n",
       "  </thead>\n",
       "  <tbody>\n",
       "    <tr>\n",
       "      <th>0</th>\n",
       "      <td>2860</td>\n",
       "      <td>ds</td>\n",
       "      <td>2008</td>\n",
       "      <td>role-playing</td>\n",
       "      <td>Nintendo</td>\n",
       "      <td>E</td>\n",
       "      <td>2.833333</td>\n",
       "      <td>0.303704</td>\n",
       "      <td>1.779257</td>\n",
       "    </tr>\n",
       "    <tr>\n",
       "      <th>1</th>\n",
       "      <td>731</td>\n",
       "      <td>wii</td>\n",
       "      <td>2012</td>\n",
       "      <td>simulation</td>\n",
       "      <td>Konami Digital Entertainment</td>\n",
       "      <td>E10+</td>\n",
       "      <td>13.200000</td>\n",
       "      <td>1.640000</td>\n",
       "      <td>0.215050</td>\n",
       "    </tr>\n",
       "    <tr>\n",
       "      <th>2</th>\n",
       "      <td>495</td>\n",
       "      <td>pc</td>\n",
       "      <td>2019</td>\n",
       "      <td>shooter</td>\n",
       "      <td>Activision</td>\n",
       "      <td>M</td>\n",
       "      <td>4.562500</td>\n",
       "      <td>0.006410</td>\n",
       "      <td>0.534402</td>\n",
       "    </tr>\n",
       "    <tr>\n",
       "      <th>3</th>\n",
       "      <td>2641</td>\n",
       "      <td>ps2</td>\n",
       "      <td>2002</td>\n",
       "      <td>sports</td>\n",
       "      <td>Electronic Arts</td>\n",
       "      <td>E</td>\n",
       "      <td>4.181818</td>\n",
       "      <td>0.326923</td>\n",
       "      <td>1.383964</td>\n",
       "    </tr>\n",
       "    <tr>\n",
       "      <th>4</th>\n",
       "      <td>811</td>\n",
       "      <td>ps3</td>\n",
       "      <td>2013</td>\n",
       "      <td>action</td>\n",
       "      <td>Activision</td>\n",
       "      <td>M</td>\n",
       "      <td>2.259259</td>\n",
       "      <td>0.032579</td>\n",
       "      <td>0.082671</td>\n",
       "    </tr>\n",
       "  </tbody>\n",
       "</table>\n",
       "</div>"
      ],
      "text/plain": [
       "     ID CONSOLE  YEAR      CATEGORY                     PUBLISHER RATING  \\\n",
       "0  2860      ds  2008  role-playing                      Nintendo      E   \n",
       "1   731     wii  2012    simulation  Konami Digital Entertainment   E10+   \n",
       "2   495      pc  2019       shooter                    Activision      M   \n",
       "3  2641     ps2  2002        sports               Electronic Arts      E   \n",
       "4   811     ps3  2013        action                    Activision      M   \n",
       "\n",
       "   CRITICS_POINTS  USER_POINTS  SalesInMillions  \n",
       "0        2.833333     0.303704         1.779257  \n",
       "1       13.200000     1.640000         0.215050  \n",
       "2        4.562500     0.006410         0.534402  \n",
       "3        4.181818     0.326923         1.383964  \n",
       "4        2.259259     0.032579         0.082671  "
      ]
     },
     "execution_count": 78,
     "metadata": {},
     "output_type": "execute_result"
    }
   ],
   "source": [
    "train.head()"
   ]
  },
  {
   "cell_type": "code",
   "execution_count": 79,
   "metadata": {},
   "outputs": [
    {
     "data": {
      "text/html": [
       "<div>\n",
       "<style scoped>\n",
       "    .dataframe tbody tr th:only-of-type {\n",
       "        vertical-align: middle;\n",
       "    }\n",
       "\n",
       "    .dataframe tbody tr th {\n",
       "        vertical-align: top;\n",
       "    }\n",
       "\n",
       "    .dataframe thead th {\n",
       "        text-align: right;\n",
       "    }\n",
       "</style>\n",
       "<table border=\"1\" class=\"dataframe\">\n",
       "  <thead>\n",
       "    <tr style=\"text-align: right;\">\n",
       "      <th></th>\n",
       "      <th>ID</th>\n",
       "      <th>CONSOLE</th>\n",
       "      <th>YEAR</th>\n",
       "      <th>CATEGORY</th>\n",
       "      <th>PUBLISHER</th>\n",
       "      <th>RATING</th>\n",
       "      <th>CRITICS_POINTS</th>\n",
       "      <th>USER_POINTS</th>\n",
       "    </tr>\n",
       "  </thead>\n",
       "  <tbody>\n",
       "    <tr>\n",
       "      <th>0</th>\n",
       "      <td>4310</td>\n",
       "      <td>ps2</td>\n",
       "      <td>2008</td>\n",
       "      <td>action</td>\n",
       "      <td>Tecmo Koei</td>\n",
       "      <td>T</td>\n",
       "      <td>3.928571</td>\n",
       "      <td>0.482353</td>\n",
       "    </tr>\n",
       "    <tr>\n",
       "      <th>1</th>\n",
       "      <td>4011</td>\n",
       "      <td>psp</td>\n",
       "      <td>2007</td>\n",
       "      <td>strategy</td>\n",
       "      <td>Atari</td>\n",
       "      <td>E10+</td>\n",
       "      <td>5.538462</td>\n",
       "      <td>0.071795</td>\n",
       "    </tr>\n",
       "    <tr>\n",
       "      <th>2</th>\n",
       "      <td>2185</td>\n",
       "      <td>ps2</td>\n",
       "      <td>2004</td>\n",
       "      <td>shooter</td>\n",
       "      <td>Electronic Arts</td>\n",
       "      <td>T</td>\n",
       "      <td>3.034483</td>\n",
       "      <td>0.062044</td>\n",
       "    </tr>\n",
       "    <tr>\n",
       "      <th>3</th>\n",
       "      <td>1644</td>\n",
       "      <td>x</td>\n",
       "      <td>2006</td>\n",
       "      <td>action</td>\n",
       "      <td>Electronic Arts</td>\n",
       "      <td>E</td>\n",
       "      <td>2.913043</td>\n",
       "      <td>0.880000</td>\n",
       "    </tr>\n",
       "    <tr>\n",
       "      <th>4</th>\n",
       "      <td>188</td>\n",
       "      <td>3ds</td>\n",
       "      <td>2011</td>\n",
       "      <td>racing</td>\n",
       "      <td>Ubisoft</td>\n",
       "      <td>E10+</td>\n",
       "      <td>1.162162</td>\n",
       "      <td>0.183333</td>\n",
       "    </tr>\n",
       "  </tbody>\n",
       "</table>\n",
       "</div>"
      ],
      "text/plain": [
       "     ID CONSOLE  YEAR  CATEGORY        PUBLISHER RATING  CRITICS_POINTS  \\\n",
       "0  4310     ps2  2008    action       Tecmo Koei      T        3.928571   \n",
       "1  4011     psp  2007  strategy            Atari   E10+        5.538462   \n",
       "2  2185     ps2  2004   shooter  Electronic Arts      T        3.034483   \n",
       "3  1644       x  2006    action  Electronic Arts      E        2.913043   \n",
       "4   188     3ds  2011    racing          Ubisoft   E10+        1.162162   \n",
       "\n",
       "   USER_POINTS  \n",
       "0     0.482353  \n",
       "1     0.071795  \n",
       "2     0.062044  \n",
       "3     0.880000  \n",
       "4     0.183333  "
      ]
     },
     "execution_count": 79,
     "metadata": {},
     "output_type": "execute_result"
    }
   ],
   "source": [
    "test.head()"
   ]
  },
  {
   "cell_type": "code",
   "execution_count": 80,
   "metadata": {},
   "outputs": [
    {
     "name": "stdout",
     "output_type": "stream",
     "text": [
      "<class 'pandas.core.frame.DataFrame'>\n",
      "RangeIndex: 3506 entries, 0 to 3505\n",
      "Data columns (total 9 columns):\n",
      "ID                 3506 non-null int64\n",
      "CONSOLE            3506 non-null object\n",
      "YEAR               3506 non-null int64\n",
      "CATEGORY           3506 non-null object\n",
      "PUBLISHER          3506 non-null object\n",
      "RATING             3506 non-null object\n",
      "CRITICS_POINTS     3506 non-null float64\n",
      "USER_POINTS        3506 non-null float64\n",
      "SalesInMillions    3506 non-null float64\n",
      "dtypes: float64(3), int64(2), object(4)\n",
      "memory usage: 246.6+ KB\n"
     ]
    }
   ],
   "source": [
    "train.info()"
   ]
  },
  {
   "cell_type": "code",
   "execution_count": 81,
   "metadata": {},
   "outputs": [
    {
     "name": "stdout",
     "output_type": "stream",
     "text": [
      "<class 'pandas.core.frame.DataFrame'>\n",
      "RangeIndex: 1503 entries, 0 to 1502\n",
      "Data columns (total 8 columns):\n",
      "ID                1503 non-null int64\n",
      "CONSOLE           1503 non-null object\n",
      "YEAR              1503 non-null int64\n",
      "CATEGORY          1503 non-null object\n",
      "PUBLISHER         1503 non-null object\n",
      "RATING            1503 non-null object\n",
      "CRITICS_POINTS    1503 non-null float64\n",
      "USER_POINTS       1503 non-null float64\n",
      "dtypes: float64(2), int64(2), object(4)\n",
      "memory usage: 94.0+ KB\n"
     ]
    }
   ],
   "source": [
    "test.info()"
   ]
  },
  {
   "cell_type": "code",
   "execution_count": 82,
   "metadata": {},
   "outputs": [
    {
     "data": {
      "text/html": [
       "<div>\n",
       "<style scoped>\n",
       "    .dataframe tbody tr th:only-of-type {\n",
       "        vertical-align: middle;\n",
       "    }\n",
       "\n",
       "    .dataframe tbody tr th {\n",
       "        vertical-align: top;\n",
       "    }\n",
       "\n",
       "    .dataframe thead th {\n",
       "        text-align: right;\n",
       "    }\n",
       "</style>\n",
       "<table border=\"1\" class=\"dataframe\">\n",
       "  <thead>\n",
       "    <tr style=\"text-align: right;\">\n",
       "      <th></th>\n",
       "      <th>ID</th>\n",
       "      <th>YEAR</th>\n",
       "      <th>CRITICS_POINTS</th>\n",
       "      <th>USER_POINTS</th>\n",
       "      <th>SalesInMillions</th>\n",
       "    </tr>\n",
       "  </thead>\n",
       "  <tbody>\n",
       "    <tr>\n",
       "      <th>count</th>\n",
       "      <td>3506.000000</td>\n",
       "      <td>3506.000000</td>\n",
       "      <td>3506.000000</td>\n",
       "      <td>3506.000000</td>\n",
       "      <td>3506.000000</td>\n",
       "    </tr>\n",
       "    <tr>\n",
       "      <th>mean</th>\n",
       "      <td>2282.233600</td>\n",
       "      <td>2008.990302</td>\n",
       "      <td>3.790831</td>\n",
       "      <td>0.405824</td>\n",
       "      <td>2.171021</td>\n",
       "    </tr>\n",
       "    <tr>\n",
       "      <th>std</th>\n",
       "      <td>1287.273422</td>\n",
       "      <td>4.304252</td>\n",
       "      <td>3.141781</td>\n",
       "      <td>0.455541</td>\n",
       "      <td>2.495396</td>\n",
       "    </tr>\n",
       "    <tr>\n",
       "      <th>min</th>\n",
       "      <td>1.000000</td>\n",
       "      <td>1997.000000</td>\n",
       "      <td>0.568966</td>\n",
       "      <td>0.000341</td>\n",
       "      <td>0.001524</td>\n",
       "    </tr>\n",
       "    <tr>\n",
       "      <th>25%</th>\n",
       "      <td>1220.250000</td>\n",
       "      <td>2006.000000</td>\n",
       "      <td>1.738095</td>\n",
       "      <td>0.065966</td>\n",
       "      <td>0.965679</td>\n",
       "    </tr>\n",
       "    <tr>\n",
       "      <th>50%</th>\n",
       "      <td>2262.500000</td>\n",
       "      <td>2009.000000</td>\n",
       "      <td>2.766667</td>\n",
       "      <td>0.233333</td>\n",
       "      <td>1.866140</td>\n",
       "    </tr>\n",
       "    <tr>\n",
       "      <th>75%</th>\n",
       "      <td>3404.750000</td>\n",
       "      <td>2012.000000</td>\n",
       "      <td>4.621528</td>\n",
       "      <td>0.598333</td>\n",
       "      <td>2.792029</td>\n",
       "    </tr>\n",
       "    <tr>\n",
       "      <th>max</th>\n",
       "      <td>4523.000000</td>\n",
       "      <td>2019.000000</td>\n",
       "      <td>23.250000</td>\n",
       "      <td>2.325000</td>\n",
       "      <td>84.226041</td>\n",
       "    </tr>\n",
       "  </tbody>\n",
       "</table>\n",
       "</div>"
      ],
      "text/plain": [
       "                ID         YEAR  CRITICS_POINTS  USER_POINTS  SalesInMillions\n",
       "count  3506.000000  3506.000000     3506.000000  3506.000000      3506.000000\n",
       "mean   2282.233600  2008.990302        3.790831     0.405824         2.171021\n",
       "std    1287.273422     4.304252        3.141781     0.455541         2.495396\n",
       "min       1.000000  1997.000000        0.568966     0.000341         0.001524\n",
       "25%    1220.250000  2006.000000        1.738095     0.065966         0.965679\n",
       "50%    2262.500000  2009.000000        2.766667     0.233333         1.866140\n",
       "75%    3404.750000  2012.000000        4.621528     0.598333         2.792029\n",
       "max    4523.000000  2019.000000       23.250000     2.325000        84.226041"
      ]
     },
     "execution_count": 82,
     "metadata": {},
     "output_type": "execute_result"
    }
   ],
   "source": [
    "train.describe()"
   ]
  },
  {
   "cell_type": "code",
   "execution_count": 83,
   "metadata": {},
   "outputs": [
    {
     "data": {
      "text/html": [
       "<div>\n",
       "<style scoped>\n",
       "    .dataframe tbody tr th:only-of-type {\n",
       "        vertical-align: middle;\n",
       "    }\n",
       "\n",
       "    .dataframe tbody tr th {\n",
       "        vertical-align: top;\n",
       "    }\n",
       "\n",
       "    .dataframe thead th {\n",
       "        text-align: right;\n",
       "    }\n",
       "</style>\n",
       "<table border=\"1\" class=\"dataframe\">\n",
       "  <thead>\n",
       "    <tr style=\"text-align: right;\">\n",
       "      <th></th>\n",
       "      <th>ID</th>\n",
       "      <th>YEAR</th>\n",
       "      <th>CRITICS_POINTS</th>\n",
       "      <th>USER_POINTS</th>\n",
       "    </tr>\n",
       "  </thead>\n",
       "  <tbody>\n",
       "    <tr>\n",
       "      <th>count</th>\n",
       "      <td>1503.000000</td>\n",
       "      <td>1503.000000</td>\n",
       "      <td>1503.000000</td>\n",
       "      <td>1503.000000</td>\n",
       "    </tr>\n",
       "    <tr>\n",
       "      <th>mean</th>\n",
       "      <td>2317.475715</td>\n",
       "      <td>2008.984697</td>\n",
       "      <td>3.873088</td>\n",
       "      <td>0.402628</td>\n",
       "    </tr>\n",
       "    <tr>\n",
       "      <th>std</th>\n",
       "      <td>1308.855461</td>\n",
       "      <td>4.461005</td>\n",
       "      <td>3.314295</td>\n",
       "      <td>0.455853</td>\n",
       "    </tr>\n",
       "    <tr>\n",
       "      <th>min</th>\n",
       "      <td>0.000000</td>\n",
       "      <td>1988.000000</td>\n",
       "      <td>0.755319</td>\n",
       "      <td>0.000481</td>\n",
       "    </tr>\n",
       "    <tr>\n",
       "      <th>25%</th>\n",
       "      <td>1177.000000</td>\n",
       "      <td>2006.000000</td>\n",
       "      <td>1.744186</td>\n",
       "      <td>0.071309</td>\n",
       "    </tr>\n",
       "    <tr>\n",
       "      <th>50%</th>\n",
       "      <td>2363.000000</td>\n",
       "      <td>2009.000000</td>\n",
       "      <td>2.812500</td>\n",
       "      <td>0.228571</td>\n",
       "    </tr>\n",
       "    <tr>\n",
       "      <th>75%</th>\n",
       "      <td>3478.000000</td>\n",
       "      <td>2012.000000</td>\n",
       "      <td>4.675439</td>\n",
       "      <td>0.562019</td>\n",
       "    </tr>\n",
       "    <tr>\n",
       "      <th>max</th>\n",
       "      <td>4516.000000</td>\n",
       "      <td>2019.000000</td>\n",
       "      <td>21.500000</td>\n",
       "      <td>2.375000</td>\n",
       "    </tr>\n",
       "  </tbody>\n",
       "</table>\n",
       "</div>"
      ],
      "text/plain": [
       "                ID         YEAR  CRITICS_POINTS  USER_POINTS\n",
       "count  1503.000000  1503.000000     1503.000000  1503.000000\n",
       "mean   2317.475715  2008.984697        3.873088     0.402628\n",
       "std    1308.855461     4.461005        3.314295     0.455853\n",
       "min       0.000000  1988.000000        0.755319     0.000481\n",
       "25%    1177.000000  2006.000000        1.744186     0.071309\n",
       "50%    2363.000000  2009.000000        2.812500     0.228571\n",
       "75%    3478.000000  2012.000000        4.675439     0.562019\n",
       "max    4516.000000  2019.000000       21.500000     2.375000"
      ]
     },
     "execution_count": 83,
     "metadata": {},
     "output_type": "execute_result"
    }
   ],
   "source": [
    "test.describe()"
   ]
  },
  {
   "cell_type": "code",
   "execution_count": 84,
   "metadata": {},
   "outputs": [
    {
     "data": {
      "text/html": [
       "<div>\n",
       "<style scoped>\n",
       "    .dataframe tbody tr th:only-of-type {\n",
       "        vertical-align: middle;\n",
       "    }\n",
       "\n",
       "    .dataframe tbody tr th {\n",
       "        vertical-align: top;\n",
       "    }\n",
       "\n",
       "    .dataframe thead th {\n",
       "        text-align: right;\n",
       "    }\n",
       "</style>\n",
       "<table border=\"1\" class=\"dataframe\">\n",
       "  <thead>\n",
       "    <tr style=\"text-align: right;\">\n",
       "      <th></th>\n",
       "      <th>ID</th>\n",
       "      <th>CONSOLE</th>\n",
       "      <th>YEAR</th>\n",
       "      <th>CATEGORY</th>\n",
       "      <th>PUBLISHER</th>\n",
       "      <th>RATING</th>\n",
       "      <th>CRITICS_POINTS</th>\n",
       "      <th>USER_POINTS</th>\n",
       "      <th>SalesInMillions</th>\n",
       "    </tr>\n",
       "  </thead>\n",
       "  <tbody>\n",
       "    <tr>\n",
       "      <th>0</th>\n",
       "      <td>2860</td>\n",
       "      <td>ds</td>\n",
       "      <td>2008</td>\n",
       "      <td>role-playing</td>\n",
       "      <td>Nintendo</td>\n",
       "      <td>E</td>\n",
       "      <td>2.833333</td>\n",
       "      <td>0.303704</td>\n",
       "      <td>1.779257</td>\n",
       "    </tr>\n",
       "    <tr>\n",
       "      <th>1</th>\n",
       "      <td>731</td>\n",
       "      <td>wii</td>\n",
       "      <td>2012</td>\n",
       "      <td>simulation</td>\n",
       "      <td>Konami Digital Entertainment</td>\n",
       "      <td>E10+</td>\n",
       "      <td>13.200000</td>\n",
       "      <td>1.640000</td>\n",
       "      <td>0.215050</td>\n",
       "    </tr>\n",
       "    <tr>\n",
       "      <th>2</th>\n",
       "      <td>495</td>\n",
       "      <td>pc</td>\n",
       "      <td>2019</td>\n",
       "      <td>shooter</td>\n",
       "      <td>Activision</td>\n",
       "      <td>M</td>\n",
       "      <td>4.562500</td>\n",
       "      <td>0.006410</td>\n",
       "      <td>0.534402</td>\n",
       "    </tr>\n",
       "    <tr>\n",
       "      <th>3</th>\n",
       "      <td>2641</td>\n",
       "      <td>ps2</td>\n",
       "      <td>2002</td>\n",
       "      <td>sports</td>\n",
       "      <td>Electronic Arts</td>\n",
       "      <td>E</td>\n",
       "      <td>4.181818</td>\n",
       "      <td>0.326923</td>\n",
       "      <td>1.383964</td>\n",
       "    </tr>\n",
       "    <tr>\n",
       "      <th>4</th>\n",
       "      <td>811</td>\n",
       "      <td>ps3</td>\n",
       "      <td>2013</td>\n",
       "      <td>action</td>\n",
       "      <td>Activision</td>\n",
       "      <td>M</td>\n",
       "      <td>2.259259</td>\n",
       "      <td>0.032579</td>\n",
       "      <td>0.082671</td>\n",
       "    </tr>\n",
       "  </tbody>\n",
       "</table>\n",
       "</div>"
      ],
      "text/plain": [
       "     ID CONSOLE  YEAR      CATEGORY                     PUBLISHER RATING  \\\n",
       "0  2860      ds  2008  role-playing                      Nintendo      E   \n",
       "1   731     wii  2012    simulation  Konami Digital Entertainment   E10+   \n",
       "2   495      pc  2019       shooter                    Activision      M   \n",
       "3  2641     ps2  2002        sports               Electronic Arts      E   \n",
       "4   811     ps3  2013        action                    Activision      M   \n",
       "\n",
       "   CRITICS_POINTS  USER_POINTS  SalesInMillions  \n",
       "0        2.833333     0.303704         1.779257  \n",
       "1       13.200000     1.640000         0.215050  \n",
       "2        4.562500     0.006410         0.534402  \n",
       "3        4.181818     0.326923         1.383964  \n",
       "4        2.259259     0.032579         0.082671  "
      ]
     },
     "execution_count": 84,
     "metadata": {},
     "output_type": "execute_result"
    }
   ],
   "source": [
    "train.head()"
   ]
  },
  {
   "cell_type": "code",
   "execution_count": 85,
   "metadata": {},
   "outputs": [],
   "source": [
    "test.loc[623,'RATING'] = 'T'\n",
    "train.loc[286,'RATING'] = 'T'"
   ]
  },
  {
   "cell_type": "code",
   "execution_count": 86,
   "metadata": {},
   "outputs": [],
   "source": [
    "test.loc[940,'CONSOLE']='ps2'"
   ]
  },
  {
   "cell_type": "code",
   "execution_count": 87,
   "metadata": {},
   "outputs": [],
   "source": [
    "tr_ix = train[train.RATING=='RP'].index\n",
    "train.drop(index=tr_ix,inplace=True)"
   ]
  },
  {
   "cell_type": "code",
   "execution_count": 88,
   "metadata": {
    "scrolled": true
   },
   "outputs": [],
   "source": [
    "train.drop(index=train[train.CONSOLE=='dc'].index,inplace=True)\n",
    "train.reset_index(drop=True,inplace=True)"
   ]
  },
  {
   "cell_type": "code",
   "execution_count": 89,
   "metadata": {
    "scrolled": false
   },
   "outputs": [
    {
     "name": "stdout",
     "output_type": "stream",
     "text": [
      "skew : 13.474348452319205, Kurt : 362.4353565283719\n"
     ]
    },
    {
     "data": {
      "image/png": "[encoded data removed]",
      "text/plain": [
       "<Figure size 432x288 with 1 Axes>"
      ]
     },
     "metadata": {
      "needs_background": "light"
     },
     "output_type": "display_data"
    }
   ],
   "source": [
    "sns.distplot(train.SalesInMillions)\n",
    "print(f'skew : {train.SalesInMillions.skew()}, Kurt : {train.SalesInMillions.kurt()}')"
   ]
  },
  {
   "cell_type": "code",
   "execution_count": 90,
   "metadata": {},
   "outputs": [
    {
     "name": "stdout",
     "output_type": "stream",
     "text": [
      "skew : 0.4319163984181297, Kurt : 1.6767677432623453\n"
     ]
    },
    {
     "data": {
      "image/png": "[encoded data removed]",
      "text/plain": [
       "<Figure size 432x288 with 1 Axes>"
      ]
     },
     "metadata": {
      "needs_background": "light"
     },
     "output_type": "display_data"
    }
   ],
   "source": [
    "sns.distplot(np.log1p(train.SalesInMillions))\n",
    "print(f'skew : {np.log1p(train.SalesInMillions).skew()}, Kurt : {np.log1p(train.SalesInMillions).kurt()}')"
   ]
  },
  {
   "cell_type": "code",
   "execution_count": 91,
   "metadata": {},
   "outputs": [],
   "source": [
    "train['SalesInMillions'] = np.log1p(train.SalesInMillions)"
   ]
  },
  {
   "cell_type": "code",
   "execution_count": 92,
   "metadata": {},
   "outputs": [],
   "source": [
    "q1 = np.log1p(train.SalesInMillions).quantile(0.25)\n",
    "q3 = np.log1p(train.SalesInMillions).quantile(0.75)\n",
    "iqr = q3 - q1\n",
    "upper = q3 + 99.5*iqr\n",
    "lower = q1 - 98.5*iqr\n",
    "d = train[train.SalesInMillions > upper].index\n",
    "m = train[train.SalesInMillions < lower].index\n",
    "#print(d,m)\n",
    "#train.drop(index = d , inplace=True)\n",
    "#train.drop(index = m , inplace=True)"
   ]
  },
  {
   "cell_type": "code",
   "execution_count": 93,
   "metadata": {},
   "outputs": [],
   "source": [
    "train.reset_index(drop = True, inplace=True)"
   ]
  },
  {
   "cell_type": "code",
   "execution_count": null,
   "metadata": {},
   "outputs": [],
   "source": []
  },
  {
   "cell_type": "code",
   "execution_count": 94,
   "metadata": {},
   "outputs": [
    {
     "data": {
      "text/plain": [
       "<matplotlib.axes._subplots.AxesSubplot at 0x219e3cf5e48>"
      ]
     },
     "execution_count": 94,
     "metadata": {},
     "output_type": "execute_result"
    },
    {
     "data": {
      "image/png": "[encoded data removed]",
      "text/plain": [
       "<Figure size 432x288 with 1 Axes>"
      ]
     },
     "metadata": {
      "needs_background": "light"
     },
     "output_type": "display_data"
    }
   ],
   "source": [
    "sns.boxplot(train.CONSOLE,train.SalesInMillions)"
   ]
  },
  {
   "cell_type": "code",
   "execution_count": 95,
   "metadata": {},
   "outputs": [
    {
     "data": {
      "text/plain": [
       "<matplotlib.axes._subplots.AxesSubplot at 0x219e3eab4e0>"
      ]
     },
     "execution_count": 95,
     "metadata": {},
     "output_type": "execute_result"
    },
    {
     "data": {
      "image/png": "[encoded data removed]",
      "text/plain": [
       "<Figure size 432x288 with 1 Axes>"
      ]
     },
     "metadata": {
      "needs_background": "light"
     },
     "output_type": "display_data"
    }
   ],
   "source": [
    "sns.scatterplot(train.CRITICS_POINTS,train.SalesInMillions,hue=train.RATING)"
   ]
  },
  {
   "cell_type": "code",
   "execution_count": 96,
   "metadata": {},
   "outputs": [],
   "source": [
    "i2=train[train.SalesInMillions>4].index\n",
    "train.drop(index=i2,inplace=True)\n",
    "train.reset_index(drop=True,inplace=True)"
   ]
  },
  {
   "cell_type": "markdown",
   "metadata": {},
   "source": [
    "# ID"
   ]
  },
  {
   "cell_type": "code",
   "execution_count": 97,
   "metadata": {
    "scrolled": true
   },
   "outputs": [
    {
     "data": {
      "text/html": [
       "<div>\n",
       "<style scoped>\n",
       "    .dataframe tbody tr th:only-of-type {\n",
       "        vertical-align: middle;\n",
       "    }\n",
       "\n",
       "    .dataframe tbody tr th {\n",
       "        vertical-align: top;\n",
       "    }\n",
       "\n",
       "    .dataframe thead th {\n",
       "        text-align: right;\n",
       "    }\n",
       "</style>\n",
       "<table border=\"1\" class=\"dataframe\">\n",
       "  <thead>\n",
       "    <tr style=\"text-align: right;\">\n",
       "      <th></th>\n",
       "      <th>ID</th>\n",
       "      <th>CONSOLE</th>\n",
       "      <th>YEAR</th>\n",
       "      <th>CATEGORY</th>\n",
       "      <th>PUBLISHER</th>\n",
       "      <th>RATING</th>\n",
       "      <th>CRITICS_POINTS</th>\n",
       "      <th>USER_POINTS</th>\n",
       "      <th>SalesInMillions</th>\n",
       "    </tr>\n",
       "  </thead>\n",
       "  <tbody>\n",
       "    <tr>\n",
       "      <th>3260</th>\n",
       "      <td>20</td>\n",
       "      <td>xone</td>\n",
       "      <td>2016</td>\n",
       "      <td>action</td>\n",
       "      <td>Telltale Games</td>\n",
       "      <td>M</td>\n",
       "      <td>2.058824</td>\n",
       "      <td>0.068831</td>\n",
       "      <td>0.435865</td>\n",
       "    </tr>\n",
       "    <tr>\n",
       "      <th>3354</th>\n",
       "      <td>20</td>\n",
       "      <td>ps4</td>\n",
       "      <td>2016</td>\n",
       "      <td>action</td>\n",
       "      <td>Telltale Games</td>\n",
       "      <td>M</td>\n",
       "      <td>2.812500</td>\n",
       "      <td>0.040136</td>\n",
       "      <td>0.665867</td>\n",
       "    </tr>\n",
       "  </tbody>\n",
       "</table>\n",
       "</div>"
      ],
      "text/plain": [
       "      ID CONSOLE  YEAR CATEGORY       PUBLISHER RATING  CRITICS_POINTS  \\\n",
       "3260  20    xone  2016   action  Telltale Games      M        2.058824   \n",
       "3354  20     ps4  2016   action  Telltale Games      M        2.812500   \n",
       "\n",
       "      USER_POINTS  SalesInMillions  \n",
       "3260     0.068831         0.435865  \n",
       "3354     0.040136         0.665867  "
      ]
     },
     "execution_count": 97,
     "metadata": {},
     "output_type": "execute_result"
    }
   ],
   "source": [
    "train.groupby(['ID']).get_group(20)"
   ]
  },
  {
   "cell_type": "markdown",
   "metadata": {},
   "source": [
    "# YEAR"
   ]
  },
  {
   "cell_type": "code",
   "execution_count": 98,
   "metadata": {},
   "outputs": [],
   "source": [
    "train['OLD'] = 2020-train['YEAR']\n",
    "test['OLD'] = 2020-test['YEAR']"
   ]
  },
  {
   "cell_type": "code",
   "execution_count": 99,
   "metadata": {},
   "outputs": [],
   "source": [
    "df=pd.concat([train,test],axis=0)\n",
    "df.reset_index(drop=True,inplace=True)"
   ]
  },
  {
   "cell_type": "code",
   "execution_count": 100,
   "metadata": {},
   "outputs": [],
   "source": [
    "df['game_launch'] = df.groupby(['YEAR', 'PUBLISHER'])['ID'].transform('count')\n",
    "\n",
    "df['game_launch_min_price'] = df.groupby(['YEAR', 'PUBLISHER'])['SalesInMillions'].transform('min')\n",
    "df['game_launch_max_price'] = df.groupby(['YEAR', 'PUBLISHER'])['SalesInMillions'].transform('max')\n",
    "df['game_launch_sum_price'] = df.groupby(['YEAR', 'PUBLISHER'])['SalesInMillions'].transform('sum')\n",
    "\n",
    "df.game_launch_min_price.fillna(-999, inplace = True)\n",
    "df.game_launch_max_price.fillna(-999, inplace = True)\n",
    "df.game_launch_sum_price.fillna(-999, inplace = True)"
   ]
  },
  {
   "cell_type": "code",
   "execution_count": 101,
   "metadata": {},
   "outputs": [],
   "source": [
    "df['pub_console'] = df.groupby(['PUBLISHER'])['CONSOLE'].transform('count')"
   ]
  },
  {
   "cell_type": "code",
   "execution_count": 102,
   "metadata": {},
   "outputs": [],
   "source": [
    "#mmx = MinMaxScaler()\n",
    "#df.USER_POINTS = pd.DataFrame(mmx.fit_transform(df[['USER_POINTS', 'CRITICS_POINTS']]), columns = ['USER_POINTS', 'CRITICS_POINTS']).USER_POINTS\n",
    "#df.CRITICS_POINTS = pd.DataFrame(mmx.fit_transform(df[['USER_POINTS', 'CRITICS_POINTS']]), columns = ['USER_POINTS', 'CRITICS_POINTS']).CRITICS_POINTS"
   ]
  },
  {
   "cell_type": "code",
   "execution_count": 103,
   "metadata": {},
   "outputs": [],
   "source": [
    "df['Critic_max']=df.groupby(['YEAR','PUBLISHER'])[['CRITICS_POINTS']].transform('max')\n",
    "df['Critic_min']=df.groupby(['YEAR','PUBLISHER'])[['CRITICS_POINTS']].transform('min')\n",
    "df['Critic_mean']=df.groupby(['YEAR','PUBLISHER'])[['CRITICS_POINTS']].transform('mean')\n",
    "df['Critic_count']=df.groupby(['YEAR','PUBLISHER'])[['CRITICS_POINTS']].transform('count')"
   ]
  },
  {
   "cell_type": "code",
   "execution_count": 104,
   "metadata": {},
   "outputs": [],
   "source": [
    "df['Public_max']=df.groupby(['YEAR','PUBLISHER'])[['USER_POINTS']].transform('max')\n",
    "df['Public_min']=df.groupby(['YEAR','PUBLISHER'])[['USER_POINTS']].transform('min')\n",
    "df['Public_mean']=df.groupby(['YEAR','PUBLISHER'])[['USER_POINTS']].transform('mean')\n",
    "df['Public_count']=df.groupby(['YEAR','PUBLISHER'])[['USER_POINTS']].transform('count')"
   ]
  },
  {
   "cell_type": "code",
   "execution_count": 105,
   "metadata": {},
   "outputs": [],
   "source": [
    "#df['Con_Old_max']=df.groupby('CONSOLE')['OLD'].transform('max')\n",
    "#df['Con_Old_min']=df.groupby(['CONSOLE'])[['OLD']].transform('min')\n",
    "#df['Con_Old_count']=df.groupby(['CONSOLE'])[['OLD']].transform('count')\n",
    "#df['Con_Old_mean']=df.groupby(['CONSOLE'])[['OLD']].transform('mean')\n",
    "#df['Con_Old_Sum']=df.groupby(['CONSOLE'])[['OLD']].transform('sum')"
   ]
  },
  {
   "cell_type": "code",
   "execution_count": 106,
   "metadata": {},
   "outputs": [],
   "source": [
    "#df = pd.concat([df,pd.DataFrame(pd.get_dummies(df[['Con_Old_max','Con_Old_min','Con_Old_count']].astype('category')))],axis=1)\n",
    "#df.drop(columns=['Con_Old_max','Con_Old_min','Con_Old_count'],inplace=True)"
   ]
  },
  {
   "cell_type": "markdown",
   "metadata": {},
   "source": [
    "df['prev_id_mean'] = df.sort_values('OLD').groupby(['ID'])['SalesInMillions'].mean()\n",
    "df['prev_pub_mean'] = df.sort_values('OLD').groupby(['PUBLISHER'])['SalesInMillions'].mean()\n",
    "df['prev_con_mean'] = df.sort_values('OLD').groupby(['CONSOLE'])['SalesInMillions'].mean()\n",
    "df['prev_cat_mean'] = df.sort_values('OLD').groupby(['CATEGORY'])['SalesInMillions'].mean()\n",
    "\n",
    "df['prev_id_max'] = df.sort_values('OLD').groupby(['ID'])['SalesInMillions'].max()\n",
    "df['prev_pub_max'] = df.sort_values('OLD').groupby(['PUBLISHER'])['SalesInMillions'].max()\n",
    "df['prev_con_max'] = df.sort_values('OLD').groupby(['CONSOLE'])['SalesInMillions'].max()\n",
    "df['prev_cat_max'] = df.sort_values('OLD').groupby(['CATEGORY'])['SalesInMillions'].max()\n",
    "\n",
    "df['prev_id_min'] = df.sort_values('OLD').groupby(['ID'])['SalesInMillions'].min()\n",
    "df['prev_pub_min'] = df.sort_values('OLD').groupby(['PUBLISHER'])['SalesInMillions'].min()\n",
    "df['prev_con_min'] = df.sort_values('OLD').groupby(['CONSOLE'])['SalesInMillions'].min()\n",
    "df['prev_cat_min'] = df.sort_values('OLD').groupby(['CATEGORY'])['SalesInMillions'].min()\n",
    "\n",
    "df['prev_id_count'] = df.sort_values('OLD').groupby(['ID'])['SalesInMillions'].count()\n",
    "df['prev_pub_count'] = df.sort_values('OLD').groupby(['PUBLISHER'])['SalesInMillions'].count()\n",
    "df['prev_con_count'] = df.sort_values('OLD').groupby(['CONSOLE'])['SalesInMillions'].count()\n",
    "df['prev_cat_count'] = df.sort_values('OLD').groupby(['CATEGORY'])['SalesInMillions'].count()\n",
    "\n",
    "df.sort_index(inplace = True)\n",
    "\n",
    "df.prev_id_mean.fillna(-999, inplace = True)\n",
    "df.prev_pub_mean.fillna(-999, inplace = True)\n",
    "df.prev_con_mean.fillna(-999, inplace = True)\n",
    "df.prev_cat_mean.fillna(-999, inplace = True)\n",
    "\n",
    "df.prev_id_max.fillna(-999, inplace = True)\n",
    "df.prev_pub_max.fillna(-999, inplace = True)\n",
    "df.prev_con_max.fillna(-999, inplace = True)\n",
    "df.prev_cat_max.fillna(-999, inplace = True)\n",
    "\n",
    "df.prev_id_min.fillna(-999, inplace = True)\n",
    "df.prev_pub_min.fillna(-999, inplace = True)\n",
    "df.prev_con_min.fillna(-999, inplace = True)\n",
    "df.prev_cat_min.fillna(-999, inplace = True)\n",
    "\n",
    "df.prev_id_count.fillna(-999, inplace = True)\n",
    "df.prev_pub_count.fillna(-999, inplace = True)\n",
    "df.prev_con_count.fillna(-999, inplace = True)\n",
    "df.prev_cat_count.fillna(-999, inplace = True)"
   ]
  },
  {
   "cell_type": "code",
   "execution_count": 107,
   "metadata": {},
   "outputs": [
    {
     "data": {
      "text/plain": [
       "((5002, 23), (3499, 10), (1503, 9))"
      ]
     },
     "execution_count": 107,
     "metadata": {},
     "output_type": "execute_result"
    }
   ],
   "source": [
    "df.shape, train.shape, test.shape"
   ]
  },
  {
   "cell_type": "code",
   "execution_count": 108,
   "metadata": {},
   "outputs": [],
   "source": [
    "test = df.iloc[train.shape[0]:,:]\n",
    "train = df.iloc[:train.shape[0],:]\n",
    "test.reset_index(drop=True,inplace=True)"
   ]
  },
  {
   "cell_type": "code",
   "execution_count": 109,
   "metadata": {},
   "outputs": [],
   "source": [
    "le=LabelEncoder()\n",
    "test.YEAR = pd.DataFrame(le.fit_transform(test.YEAR),columns=['YEAR'])\n",
    "train.YEAR = pd.DataFrame(le.transform(train.YEAR),columns=['YEAR'])"
   ]
  },
  {
   "cell_type": "markdown",
   "metadata": {},
   "source": [
    "# CATEGORY"
   ]
  },
  {
   "cell_type": "code",
   "execution_count": 110,
   "metadata": {},
   "outputs": [
    {
     "data": {
      "text/html": [
       "<div>\n",
       "<style scoped>\n",
       "    .dataframe tbody tr th:only-of-type {\n",
       "        vertical-align: middle;\n",
       "    }\n",
       "\n",
       "    .dataframe tbody tr th {\n",
       "        vertical-align: top;\n",
       "    }\n",
       "\n",
       "    .dataframe thead th {\n",
       "        text-align: right;\n",
       "    }\n",
       "</style>\n",
       "<table border=\"1\" class=\"dataframe\">\n",
       "  <thead>\n",
       "    <tr style=\"text-align: right;\">\n",
       "      <th></th>\n",
       "      <th>CATEGORY</th>\n",
       "      <th>CONSOLE</th>\n",
       "      <th>CRITICS_POINTS</th>\n",
       "      <th>ID</th>\n",
       "      <th>OLD</th>\n",
       "      <th>PUBLISHER</th>\n",
       "      <th>RATING</th>\n",
       "      <th>SalesInMillions</th>\n",
       "      <th>USER_POINTS</th>\n",
       "      <th>YEAR</th>\n",
       "      <th>...</th>\n",
       "      <th>game_launch_sum_price</th>\n",
       "      <th>pub_console</th>\n",
       "      <th>Critic_max</th>\n",
       "      <th>Critic_min</th>\n",
       "      <th>Critic_mean</th>\n",
       "      <th>Critic_count</th>\n",
       "      <th>Public_max</th>\n",
       "      <th>Public_min</th>\n",
       "      <th>Public_mean</th>\n",
       "      <th>Public_count</th>\n",
       "    </tr>\n",
       "  </thead>\n",
       "  <tbody>\n",
       "    <tr>\n",
       "      <th>0</th>\n",
       "      <td>role-playing</td>\n",
       "      <td>ds</td>\n",
       "      <td>2.833333</td>\n",
       "      <td>2860</td>\n",
       "      <td>12</td>\n",
       "      <td>Nintendo</td>\n",
       "      <td>E</td>\n",
       "      <td>1.022184</td>\n",
       "      <td>0.303704</td>\n",
       "      <td>13</td>\n",
       "      <td>...</td>\n",
       "      <td>36.652272</td>\n",
       "      <td>250</td>\n",
       "      <td>4.812500</td>\n",
       "      <td>1.135593</td>\n",
       "      <td>1.949969</td>\n",
       "      <td>27</td>\n",
       "      <td>0.833333</td>\n",
       "      <td>0.005409</td>\n",
       "      <td>0.181060</td>\n",
       "      <td>27</td>\n",
       "    </tr>\n",
       "    <tr>\n",
       "      <th>1</th>\n",
       "      <td>simulation</td>\n",
       "      <td>wii</td>\n",
       "      <td>13.200000</td>\n",
       "      <td>731</td>\n",
       "      <td>8</td>\n",
       "      <td>Konami Digital Entertainment</td>\n",
       "      <td>E10+</td>\n",
       "      <td>0.194785</td>\n",
       "      <td>1.640000</td>\n",
       "      <td>17</td>\n",
       "      <td>...</td>\n",
       "      <td>5.338900</td>\n",
       "      <td>162</td>\n",
       "      <td>13.200000</td>\n",
       "      <td>1.562500</td>\n",
       "      <td>6.135593</td>\n",
       "      <td>10</td>\n",
       "      <td>1.640000</td>\n",
       "      <td>0.035294</td>\n",
       "      <td>0.644414</td>\n",
       "      <td>10</td>\n",
       "    </tr>\n",
       "    <tr>\n",
       "      <th>2</th>\n",
       "      <td>shooter</td>\n",
       "      <td>pc</td>\n",
       "      <td>4.562500</td>\n",
       "      <td>495</td>\n",
       "      <td>1</td>\n",
       "      <td>Activision</td>\n",
       "      <td>M</td>\n",
       "      <td>0.428140</td>\n",
       "      <td>0.006410</td>\n",
       "      <td>24</td>\n",
       "      <td>...</td>\n",
       "      <td>4.216195</td>\n",
       "      <td>397</td>\n",
       "      <td>14.000000</td>\n",
       "      <td>1.419355</td>\n",
       "      <td>5.549886</td>\n",
       "      <td>6</td>\n",
       "      <td>0.221429</td>\n",
       "      <td>0.006410</td>\n",
       "      <td>0.068441</td>\n",
       "      <td>6</td>\n",
       "    </tr>\n",
       "    <tr>\n",
       "      <th>3</th>\n",
       "      <td>sports</td>\n",
       "      <td>ps2</td>\n",
       "      <td>4.181818</td>\n",
       "      <td>2641</td>\n",
       "      <td>18</td>\n",
       "      <td>Electronic Arts</td>\n",
       "      <td>E</td>\n",
       "      <td>0.868765</td>\n",
       "      <td>0.326923</td>\n",
       "      <td>7</td>\n",
       "      <td>...</td>\n",
       "      <td>20.193798</td>\n",
       "      <td>725</td>\n",
       "      <td>9.777778</td>\n",
       "      <td>2.600000</td>\n",
       "      <td>5.404044</td>\n",
       "      <td>26</td>\n",
       "      <td>1.760000</td>\n",
       "      <td>0.101163</td>\n",
       "      <td>0.621805</td>\n",
       "      <td>26</td>\n",
       "    </tr>\n",
       "    <tr>\n",
       "      <th>4</th>\n",
       "      <td>action</td>\n",
       "      <td>ps3</td>\n",
       "      <td>2.259259</td>\n",
       "      <td>811</td>\n",
       "      <td>7</td>\n",
       "      <td>Activision</td>\n",
       "      <td>M</td>\n",
       "      <td>0.079431</td>\n",
       "      <td>0.032579</td>\n",
       "      <td>18</td>\n",
       "      <td>...</td>\n",
       "      <td>12.947608</td>\n",
       "      <td>397</td>\n",
       "      <td>19.000000</td>\n",
       "      <td>1.134146</td>\n",
       "      <td>4.890454</td>\n",
       "      <td>15</td>\n",
       "      <td>2.250000</td>\n",
       "      <td>0.002357</td>\n",
       "      <td>0.327991</td>\n",
       "      <td>15</td>\n",
       "    </tr>\n",
       "  </tbody>\n",
       "</table>\n",
       "<p>5 rows × 23 columns</p>\n",
       "</div>"
      ],
      "text/plain": [
       "       CATEGORY CONSOLE  CRITICS_POINTS    ID  OLD  \\\n",
       "0  role-playing      ds        2.833333  2860   12   \n",
       "1    simulation     wii       13.200000   731    8   \n",
       "2       shooter      pc        4.562500   495    1   \n",
       "3        sports     ps2        4.181818  2641   18   \n",
       "4        action     ps3        2.259259   811    7   \n",
       "\n",
       "                      PUBLISHER RATING  SalesInMillions  USER_POINTS  YEAR  \\\n",
       "0                      Nintendo      E         1.022184     0.303704    13   \n",
       "1  Konami Digital Entertainment   E10+         0.194785     1.640000    17   \n",
       "2                    Activision      M         0.428140     0.006410    24   \n",
       "3               Electronic Arts      E         0.868765     0.326923     7   \n",
       "4                    Activision      M         0.079431     0.032579    18   \n",
       "\n",
       "   ...  game_launch_sum_price  pub_console  Critic_max  Critic_min  \\\n",
       "0  ...              36.652272          250    4.812500    1.135593   \n",
       "1  ...               5.338900          162   13.200000    1.562500   \n",
       "2  ...               4.216195          397   14.000000    1.419355   \n",
       "3  ...              20.193798          725    9.777778    2.600000   \n",
       "4  ...              12.947608          397   19.000000    1.134146   \n",
       "\n",
       "   Critic_mean  Critic_count  Public_max  Public_min  Public_mean  \\\n",
       "0     1.949969            27    0.833333    0.005409     0.181060   \n",
       "1     6.135593            10    1.640000    0.035294     0.644414   \n",
       "2     5.549886             6    0.221429    0.006410     0.068441   \n",
       "3     5.404044            26    1.760000    0.101163     0.621805   \n",
       "4     4.890454            15    2.250000    0.002357     0.327991   \n",
       "\n",
       "   Public_count  \n",
       "0            27  \n",
       "1            10  \n",
       "2             6  \n",
       "3            26  \n",
       "4            15  \n",
       "\n",
       "[5 rows x 23 columns]"
      ]
     },
     "execution_count": 110,
     "metadata": {},
     "output_type": "execute_result"
    }
   ],
   "source": [
    "train.head()"
   ]
  },
  {
   "cell_type": "code",
   "execution_count": 111,
   "metadata": {
    "scrolled": true
   },
   "outputs": [
    {
     "data": {
      "text/plain": [
       "action          845\n",
       "sports          463\n",
       "shooter         441\n",
       "role-playing    379\n",
       "racing          295\n",
       "misc            220\n",
       "platform        218\n",
       "fighting        187\n",
       "simulation      149\n",
       "strategy        130\n",
       "adventure       113\n",
       "puzzle           59\n",
       "Name: CATEGORY, dtype: int64"
      ]
     },
     "execution_count": 111,
     "metadata": {},
     "output_type": "execute_result"
    }
   ],
   "source": [
    "train.CATEGORY.value_counts()"
   ]
  },
  {
   "cell_type": "code",
   "execution_count": null,
   "metadata": {},
   "outputs": [],
   "source": []
  },
  {
   "cell_type": "code",
   "execution_count": 112,
   "metadata": {},
   "outputs": [],
   "source": [
    "train = pd.concat([train,pd.get_dummies(train.CATEGORY)],axis=1)\n",
    "test = pd.concat([test,pd.get_dummies(test.CATEGORY)],axis=1)\n",
    "train.drop(columns=['CATEGORY'], inplace=True)\n",
    "test.drop(columns=['CATEGORY'], inplace=True)"
   ]
  },
  {
   "cell_type": "markdown",
   "metadata": {},
   "source": [
    "# PUBLISHER"
   ]
  },
  {
   "cell_type": "code",
   "execution_count": 113,
   "metadata": {},
   "outputs": [
    {
     "data": {
      "text/plain": [
       "136"
      ]
     },
     "execution_count": 113,
     "metadata": {},
     "output_type": "execute_result"
    }
   ],
   "source": [
    "test.PUBLISHER.nunique()"
   ]
  },
  {
   "cell_type": "code",
   "execution_count": 114,
   "metadata": {},
   "outputs": [],
   "source": [
    "#all_text = train.PUBLISHER.tolist()+test.PUBLISHER.tolist()"
   ]
  },
  {
   "cell_type": "code",
   "execution_count": 115,
   "metadata": {},
   "outputs": [],
   "source": [
    "#from sklearn.feature_extraction.text import TfidfVectorizer, CountVectorizer\n",
    "#tfidf = TfidfVectorizer(ngram_range=(1,2), stop_words='english', lowercase=True, analyzer='word')\n",
    "#tfidf.fit(all_text)\n",
    "#train = pd.concat([pd.DataFrame(tfidf.transform(train.PUBLISHER).toarray()), train], axis = 1)\n",
    "#test = pd.concat([pd.DataFrame(tfidf.transform(test.PUBLISHER).toarray()), test], axis = 1)"
   ]
  },
  {
   "cell_type": "code",
   "execution_count": 116,
   "metadata": {},
   "outputs": [
    {
     "data": {
      "text/plain": [
       "((3499, 34), (1503, 34))"
      ]
     },
     "execution_count": 116,
     "metadata": {},
     "output_type": "execute_result"
    }
   ],
   "source": [
    "train.shape, test.shape"
   ]
  },
  {
   "cell_type": "code",
   "execution_count": 117,
   "metadata": {},
   "outputs": [],
   "source": [
    "a1=set(train.PUBLISHER).difference(set(test.PUBLISHER))\n",
    "a2=set(test.PUBLISHER).difference(set(train.PUBLISHER))\n",
    "train.PUBLISHER=train.PUBLISHER.apply(lambda x : 'Other' if x in a1 else x )\n",
    "test.PUBLISHER=test.PUBLISHER.apply(lambda x : 'Other' if x in a2 else x )\n",
    "\n",
    "#train['RAT_MIN']=train.groupby(['PUBLISHER','RATING'])[['USER_POINTS']].transform('min')\n",
    "#test['RAT_MIN']=test.groupby(['PUBLISHER','RATING'])[['USER_POINTS']].transform('min')\n",
    "#train['RAT_MAX']=train.groupby(['PUBLISHER','RATING'])[['USER_POINTS']].transform('max')\n",
    "#test['RAT_MAX']=test.groupby(['PUBLISHER','RATING'])[['USER_POINTS']].transform('max')\n",
    "#train['RAT_MEAN']=train.groupby(['PUBLISHER','RATING'])[['USER_POINTS']].transform('mean')\n",
    "#test['RAT_MEAN']=test.groupby(['PUBLISHER','RATING'])[['USER_POINTS']].transform('mean')"
   ]
  },
  {
   "cell_type": "code",
   "execution_count": 118,
   "metadata": {},
   "outputs": [],
   "source": [
    "train = pd.concat([train,pd.get_dummies(train.PUBLISHER)],axis=1)\n",
    "test = pd.concat([test,pd.get_dummies(test.PUBLISHER)],axis=1)\n",
    "train.drop(columns=['PUBLISHER'], inplace=True)\n",
    "test.drop(columns=['PUBLISHER'], inplace=True)"
   ]
  },
  {
   "cell_type": "code",
   "execution_count": 119,
   "metadata": {},
   "outputs": [],
   "source": [
    "#le = LabelEncoder()\n",
    "#train['PUBLISHER'] = pd.DataFrame(le.fit_transform(train.PUBLISHER),columns=['PUBLISHER'])\n",
    "#test['PUBLISHER'] = pd.DataFrame(le.transform(test.PUBLISHER),columns=['PUBLISHER'])"
   ]
  },
  {
   "cell_type": "code",
   "execution_count": 120,
   "metadata": {},
   "outputs": [],
   "source": [
    "#train.drop(columns=['PUBLISHER'],inplace=True)\n",
    "#test.drop(columns=['PUBLISHER'],inplace=True)"
   ]
  },
  {
   "cell_type": "code",
   "execution_count": 121,
   "metadata": {},
   "outputs": [
    {
     "data": {
      "text/plain": [
       "((3499, 141), (1503, 141))"
      ]
     },
     "execution_count": 121,
     "metadata": {},
     "output_type": "execute_result"
    }
   ],
   "source": [
    "train.shape,test.shape"
   ]
  },
  {
   "cell_type": "markdown",
   "metadata": {},
   "source": [
    "# RATING"
   ]
  },
  {
   "cell_type": "code",
   "execution_count": 122,
   "metadata": {},
   "outputs": [
    {
     "data": {
      "text/plain": [
       "T       1180\n",
       "E       1059\n",
       "M        749\n",
       "E10+     511\n",
       "Name: RATING, dtype: int64"
      ]
     },
     "execution_count": 122,
     "metadata": {},
     "output_type": "execute_result"
    }
   ],
   "source": [
    "train.RATING.value_counts()"
   ]
  },
  {
   "cell_type": "code",
   "execution_count": null,
   "metadata": {},
   "outputs": [],
   "source": []
  },
  {
   "cell_type": "code",
   "execution_count": 123,
   "metadata": {},
   "outputs": [],
   "source": [
    "train = pd.concat([train,pd.get_dummies(train.RATING)],axis=1)\n",
    "test = pd.concat([test,pd.get_dummies(test.RATING)],axis=1)\n",
    "train.drop(columns=['RATING'],inplace=True)\n",
    "test.drop(columns=['RATING'],inplace=True)"
   ]
  },
  {
   "cell_type": "code",
   "execution_count": 124,
   "metadata": {},
   "outputs": [
    {
     "data": {
      "text/plain": [
       "((3499, 144), (1503, 144))"
      ]
     },
     "execution_count": 124,
     "metadata": {},
     "output_type": "execute_result"
    }
   ],
   "source": [
    "train.shape,test.shape"
   ]
  },
  {
   "cell_type": "code",
   "execution_count": 125,
   "metadata": {
    "scrolled": true
   },
   "outputs": [
    {
     "data": {
      "text/html": [
       "<div>\n",
       "<style scoped>\n",
       "    .dataframe tbody tr th:only-of-type {\n",
       "        vertical-align: middle;\n",
       "    }\n",
       "\n",
       "    .dataframe tbody tr th {\n",
       "        vertical-align: top;\n",
       "    }\n",
       "\n",
       "    .dataframe thead th {\n",
       "        text-align: right;\n",
       "    }\n",
       "</style>\n",
       "<table border=\"1\" class=\"dataframe\">\n",
       "  <thead>\n",
       "    <tr style=\"text-align: right;\">\n",
       "      <th></th>\n",
       "      <th>CONSOLE</th>\n",
       "      <th>CRITICS_POINTS</th>\n",
       "      <th>ID</th>\n",
       "      <th>OLD</th>\n",
       "      <th>SalesInMillions</th>\n",
       "      <th>USER_POINTS</th>\n",
       "      <th>YEAR</th>\n",
       "      <th>game_launch</th>\n",
       "      <th>game_launch_min_price</th>\n",
       "      <th>game_launch_max_price</th>\n",
       "      <th>...</th>\n",
       "      <th>Vivendi Games</th>\n",
       "      <th>Warner Bros. Interactive Entertainment</th>\n",
       "      <th>Xplosiv</th>\n",
       "      <th>Xseed Games</th>\n",
       "      <th>Yacht Club Games</th>\n",
       "      <th>Zoo Digital Publishing</th>\n",
       "      <th>E</th>\n",
       "      <th>E10+</th>\n",
       "      <th>M</th>\n",
       "      <th>T</th>\n",
       "    </tr>\n",
       "  </thead>\n",
       "  <tbody>\n",
       "    <tr>\n",
       "      <th>0</th>\n",
       "      <td>ds</td>\n",
       "      <td>2.833333</td>\n",
       "      <td>2860</td>\n",
       "      <td>12</td>\n",
       "      <td>1.022184</td>\n",
       "      <td>0.303704</td>\n",
       "      <td>13</td>\n",
       "      <td>27</td>\n",
       "      <td>0.654564</td>\n",
       "      <td>3.476126</td>\n",
       "      <td>...</td>\n",
       "      <td>0</td>\n",
       "      <td>0</td>\n",
       "      <td>0</td>\n",
       "      <td>0</td>\n",
       "      <td>0</td>\n",
       "      <td>0</td>\n",
       "      <td>1</td>\n",
       "      <td>0</td>\n",
       "      <td>0</td>\n",
       "      <td>0</td>\n",
       "    </tr>\n",
       "    <tr>\n",
       "      <th>1</th>\n",
       "      <td>wii</td>\n",
       "      <td>13.200000</td>\n",
       "      <td>731</td>\n",
       "      <td>8</td>\n",
       "      <td>0.194785</td>\n",
       "      <td>1.640000</td>\n",
       "      <td>17</td>\n",
       "      <td>10</td>\n",
       "      <td>0.143694</td>\n",
       "      <td>1.270652</td>\n",
       "      <td>...</td>\n",
       "      <td>0</td>\n",
       "      <td>0</td>\n",
       "      <td>0</td>\n",
       "      <td>0</td>\n",
       "      <td>0</td>\n",
       "      <td>0</td>\n",
       "      <td>0</td>\n",
       "      <td>1</td>\n",
       "      <td>0</td>\n",
       "      <td>0</td>\n",
       "    </tr>\n",
       "    <tr>\n",
       "      <th>2</th>\n",
       "      <td>pc</td>\n",
       "      <td>4.562500</td>\n",
       "      <td>495</td>\n",
       "      <td>1</td>\n",
       "      <td>0.428140</td>\n",
       "      <td>0.006410</td>\n",
       "      <td>24</td>\n",
       "      <td>6</td>\n",
       "      <td>0.428140</td>\n",
       "      <td>1.581609</td>\n",
       "      <td>...</td>\n",
       "      <td>0</td>\n",
       "      <td>0</td>\n",
       "      <td>0</td>\n",
       "      <td>0</td>\n",
       "      <td>0</td>\n",
       "      <td>0</td>\n",
       "      <td>0</td>\n",
       "      <td>0</td>\n",
       "      <td>1</td>\n",
       "      <td>0</td>\n",
       "    </tr>\n",
       "    <tr>\n",
       "      <th>3</th>\n",
       "      <td>ps2</td>\n",
       "      <td>4.181818</td>\n",
       "      <td>2641</td>\n",
       "      <td>18</td>\n",
       "      <td>0.868765</td>\n",
       "      <td>0.326923</td>\n",
       "      <td>7</td>\n",
       "      <td>26</td>\n",
       "      <td>0.151899</td>\n",
       "      <td>1.645285</td>\n",
       "      <td>...</td>\n",
       "      <td>0</td>\n",
       "      <td>0</td>\n",
       "      <td>0</td>\n",
       "      <td>0</td>\n",
       "      <td>0</td>\n",
       "      <td>0</td>\n",
       "      <td>1</td>\n",
       "      <td>0</td>\n",
       "      <td>0</td>\n",
       "      <td>0</td>\n",
       "    </tr>\n",
       "    <tr>\n",
       "      <th>4</th>\n",
       "      <td>ps3</td>\n",
       "      <td>2.259259</td>\n",
       "      <td>811</td>\n",
       "      <td>7</td>\n",
       "      <td>0.079431</td>\n",
       "      <td>0.032579</td>\n",
       "      <td>18</td>\n",
       "      <td>15</td>\n",
       "      <td>0.079431</td>\n",
       "      <td>2.697241</td>\n",
       "      <td>...</td>\n",
       "      <td>0</td>\n",
       "      <td>0</td>\n",
       "      <td>0</td>\n",
       "      <td>0</td>\n",
       "      <td>0</td>\n",
       "      <td>0</td>\n",
       "      <td>0</td>\n",
       "      <td>0</td>\n",
       "      <td>1</td>\n",
       "      <td>0</td>\n",
       "    </tr>\n",
       "  </tbody>\n",
       "</table>\n",
       "<p>5 rows × 144 columns</p>\n",
       "</div>"
      ],
      "text/plain": [
       "  CONSOLE  CRITICS_POINTS    ID  OLD  SalesInMillions  USER_POINTS  YEAR  \\\n",
       "0      ds        2.833333  2860   12         1.022184     0.303704    13   \n",
       "1     wii       13.200000   731    8         0.194785     1.640000    17   \n",
       "2      pc        4.562500   495    1         0.428140     0.006410    24   \n",
       "3     ps2        4.181818  2641   18         0.868765     0.326923     7   \n",
       "4     ps3        2.259259   811    7         0.079431     0.032579    18   \n",
       "\n",
       "   game_launch  game_launch_min_price  game_launch_max_price  ...  \\\n",
       "0           27               0.654564               3.476126  ...   \n",
       "1           10               0.143694               1.270652  ...   \n",
       "2            6               0.428140               1.581609  ...   \n",
       "3           26               0.151899               1.645285  ...   \n",
       "4           15               0.079431               2.697241  ...   \n",
       "\n",
       "   Vivendi Games  Warner Bros. Interactive Entertainment  Xplosiv  \\\n",
       "0              0                                       0        0   \n",
       "1              0                                       0        0   \n",
       "2              0                                       0        0   \n",
       "3              0                                       0        0   \n",
       "4              0                                       0        0   \n",
       "\n",
       "   Xseed Games  Yacht Club Games  Zoo Digital Publishing  E  E10+  M  T  \n",
       "0            0                 0                       0  1     0  0  0  \n",
       "1            0                 0                       0  0     1  0  0  \n",
       "2            0                 0                       0  0     0  1  0  \n",
       "3            0                 0                       0  1     0  0  0  \n",
       "4            0                 0                       0  0     0  1  0  \n",
       "\n",
       "[5 rows x 144 columns]"
      ]
     },
     "execution_count": 125,
     "metadata": {},
     "output_type": "execute_result"
    }
   ],
   "source": [
    "train.head()"
   ]
  },
  {
   "cell_type": "code",
   "execution_count": 126,
   "metadata": {
    "scrolled": true
   },
   "outputs": [
    {
     "data": {
      "text/plain": [
       "((3499, 144), (1503, 144))"
      ]
     },
     "execution_count": 126,
     "metadata": {},
     "output_type": "execute_result"
    }
   ],
   "source": [
    "train.shape,test.shape"
   ]
  },
  {
   "cell_type": "markdown",
   "metadata": {},
   "source": [
    "# CONSOLE"
   ]
  },
  {
   "cell_type": "code",
   "execution_count": 127,
   "metadata": {},
   "outputs": [],
   "source": [
    "train = pd.concat([train,pd.get_dummies(train.CONSOLE,drop_first=True)],axis=1)\n",
    "test = pd.concat([test,pd.get_dummies(test.CONSOLE,drop_first=True)],axis=1)\n",
    "train.drop(columns=['CONSOLE'],inplace=True)\n",
    "test.drop(columns=['CONSOLE'],inplace=True)"
   ]
  },
  {
   "cell_type": "code",
   "execution_count": 128,
   "metadata": {},
   "outputs": [],
   "source": [
    "label = train.SalesInMillions\n",
    "test.drop(columns=['SalesInMillions'],inplace=True)\n",
    "train.drop(columns=['SalesInMillions'],inplace=True)"
   ]
  },
  {
   "cell_type": "code",
   "execution_count": 129,
   "metadata": {},
   "outputs": [],
   "source": [
    "def kfold(model,train,label,test,split,rnd_st):\n",
    "    val_mean=[]\n",
    "    tr_mean=[]\n",
    "    prediction_test=pd.DataFrame(np.zeros(shape=(test.shape[0],split)))\n",
    "    splitter=KFold(n_splits=split , random_state=rnd_st)\n",
    "                        \n",
    "    for i,(tr_index,val_index) in enumerate(splitter.split(train,label)):\n",
    "        x_train , y_train = train.loc[tr_index,:] , label[tr_index]\n",
    "        x_val , y_val = train.loc[val_index,:] , label[val_index]\n",
    "                                 \n",
    "        model.fit(x_train,y_train)\n",
    "        tr_pred = model.predict(x_train)\n",
    "        te_pred = model.predict(x_val)\n",
    "        \n",
    "        prediction_test.iloc[:,i] = model.predict(test)    \n",
    "        tr_mean.append(np.sqrt(mean_squared_error(np.exp(tr_pred)-1,np.exp(y_train)-1)))\n",
    "        val_mean.append(np.sqrt(mean_squared_error(np.exp(te_pred)-1,np.exp(y_val)-1)))\n",
    "        print('Training Loss : {} \\t\\t\\t Validation Loss : {}'.format(np.sqrt(mean_squared_error(np.exp(tr_pred)-1,np.exp(y_train)-1)), np.sqrt(mean_squared_error(np.exp(te_pred)-1,np.exp(y_val)-1))))    \n",
    "    print(np.mean(tr_mean),'\\t\\t' ,np.mean(val_mean))            \n",
    "    plt.figure(figsize = (18,40))\n",
    "    pd.Series(model.feature_importances_, index = train.columns).sort_values().plot.barh()\n",
    "    \n",
    "    return(np.exp(np.mean(prediction_test,axis=1))-1)"
   ]
  },
  {
   "cell_type": "code",
   "execution_count": 130,
   "metadata": {},
   "outputs": [],
   "source": [
    "seed=3413"
   ]
  },
  {
   "cell_type": "code",
   "execution_count": 134,
   "metadata": {
    "scrolled": true
   },
   "outputs": [
    {
     "name": "stdout",
     "output_type": "stream",
     "text": [
      "Training Loss : 1.2802856215266738 \t\t\t Validation Loss : 1.3280248090184026\n",
      "Training Loss : 1.3164871611249271 \t\t\t Validation Loss : 1.5081800659005173\n",
      "Training Loss : 1.2817208077304578 \t\t\t Validation Loss : 1.3488140427111772\n",
      "Training Loss : 1.3052822050040467 \t\t\t Validation Loss : 1.3522428077845856\n",
      "Training Loss : 1.250095287646351 \t\t\t Validation Loss : 2.4290813221471526\n",
      "Training Loss : 1.2845307929562246 \t\t\t Validation Loss : 1.2845584647658783\n",
      "Training Loss : 1.2864526224105626 \t\t\t Validation Loss : 1.8428371751561663\n",
      "Training Loss : 1.3320458416490863 \t\t\t Validation Loss : 1.39277874108014\n",
      "Training Loss : 1.296133933421047 \t\t\t Validation Loss : 1.2360975793719953\n",
      "Training Loss : 1.2956162264200841 \t\t\t Validation Loss : 1.4298596344825534\n",
      "Training Loss : 1.2965038326259928 \t\t\t Validation Loss : 1.554253768556112\n",
      "Training Loss : 1.2736048754829112 \t\t\t Validation Loss : 2.191229492263785\n",
      "Training Loss : 1.2878492468774436 \t\t\t Validation Loss : 1.9986713179201765\n",
      "Training Loss : 1.2682132940339488 \t\t\t Validation Loss : 1.7350749711152145\n",
      "Training Loss : 1.2774164338849165 \t\t\t Validation Loss : 1.4286797845110542\n",
      "1.2888158788529782 \t\t 1.6040255984523273\n"
     ]
    },
    {
     "data": {
      "image/png": "[encoded data removed]",
      "text/plain": [
       "<Figure size 1296x2880 with 1 Axes>"
      ]
     },
     "metadata": {
      "needs_background": "light"
     },
     "output_type": "display_data"
    }
   ],
   "source": [
    "pred = kfold(GradientBoostingRegressor(random_state=seed, n_estimators=200),train,label,\n",
    "             test,15,seed)"
   ]
  },
  {
   "cell_type": "code",
   "execution_count": 135,
   "metadata": {},
   "outputs": [],
   "source": [
    "sample['SalesInMillions'] = pred"
   ]
  },
  {
   "cell_type": "code",
   "execution_count": 136,
   "metadata": {},
   "outputs": [
    {
     "data": {
      "text/html": [
       "<div>\n",
       "<style scoped>\n",
       "    .dataframe tbody tr th:only-of-type {\n",
       "        vertical-align: middle;\n",
       "    }\n",
       "\n",
       "    .dataframe tbody tr th {\n",
       "        vertical-align: top;\n",
       "    }\n",
       "\n",
       "    .dataframe thead th {\n",
       "        text-align: right;\n",
       "    }\n",
       "</style>\n",
       "<table border=\"1\" class=\"dataframe\">\n",
       "  <thead>\n",
       "    <tr style=\"text-align: right;\">\n",
       "      <th></th>\n",
       "      <th>SalesInMillions</th>\n",
       "    </tr>\n",
       "  </thead>\n",
       "  <tbody>\n",
       "    <tr>\n",
       "      <th>0</th>\n",
       "      <td>1.672137</td>\n",
       "    </tr>\n",
       "    <tr>\n",
       "      <th>1</th>\n",
       "      <td>2.029527</td>\n",
       "    </tr>\n",
       "    <tr>\n",
       "      <th>2</th>\n",
       "      <td>2.682838</td>\n",
       "    </tr>\n",
       "    <tr>\n",
       "      <th>3</th>\n",
       "      <td>1.834143</td>\n",
       "    </tr>\n",
       "    <tr>\n",
       "      <th>4</th>\n",
       "      <td>1.526424</td>\n",
       "    </tr>\n",
       "    <tr>\n",
       "      <th>5</th>\n",
       "      <td>1.875373</td>\n",
       "    </tr>\n",
       "    <tr>\n",
       "      <th>6</th>\n",
       "      <td>1.278929</td>\n",
       "    </tr>\n",
       "    <tr>\n",
       "      <th>7</th>\n",
       "      <td>1.113444</td>\n",
       "    </tr>\n",
       "    <tr>\n",
       "      <th>8</th>\n",
       "      <td>1.414502</td>\n",
       "    </tr>\n",
       "    <tr>\n",
       "      <th>9</th>\n",
       "      <td>1.188047</td>\n",
       "    </tr>\n",
       "    <tr>\n",
       "      <th>10</th>\n",
       "      <td>2.019112</td>\n",
       "    </tr>\n",
       "    <tr>\n",
       "      <th>11</th>\n",
       "      <td>0.163382</td>\n",
       "    </tr>\n",
       "    <tr>\n",
       "      <th>12</th>\n",
       "      <td>1.283232</td>\n",
       "    </tr>\n",
       "    <tr>\n",
       "      <th>13</th>\n",
       "      <td>1.461771</td>\n",
       "    </tr>\n",
       "    <tr>\n",
       "      <th>14</th>\n",
       "      <td>-0.072685</td>\n",
       "    </tr>\n",
       "    <tr>\n",
       "      <th>15</th>\n",
       "      <td>3.308074</td>\n",
       "    </tr>\n",
       "    <tr>\n",
       "      <th>16</th>\n",
       "      <td>1.639405</td>\n",
       "    </tr>\n",
       "    <tr>\n",
       "      <th>17</th>\n",
       "      <td>1.934643</td>\n",
       "    </tr>\n",
       "    <tr>\n",
       "      <th>18</th>\n",
       "      <td>0.069307</td>\n",
       "    </tr>\n",
       "    <tr>\n",
       "      <th>19</th>\n",
       "      <td>2.377157</td>\n",
       "    </tr>\n",
       "    <tr>\n",
       "      <th>20</th>\n",
       "      <td>1.417587</td>\n",
       "    </tr>\n",
       "    <tr>\n",
       "      <th>21</th>\n",
       "      <td>0.170361</td>\n",
       "    </tr>\n",
       "    <tr>\n",
       "      <th>22</th>\n",
       "      <td>1.566259</td>\n",
       "    </tr>\n",
       "    <tr>\n",
       "      <th>23</th>\n",
       "      <td>1.814085</td>\n",
       "    </tr>\n",
       "    <tr>\n",
       "      <th>24</th>\n",
       "      <td>1.061955</td>\n",
       "    </tr>\n",
       "    <tr>\n",
       "      <th>25</th>\n",
       "      <td>0.268562</td>\n",
       "    </tr>\n",
       "    <tr>\n",
       "      <th>26</th>\n",
       "      <td>0.633210</td>\n",
       "    </tr>\n",
       "    <tr>\n",
       "      <th>27</th>\n",
       "      <td>1.101830</td>\n",
       "    </tr>\n",
       "    <tr>\n",
       "      <th>28</th>\n",
       "      <td>3.142657</td>\n",
       "    </tr>\n",
       "    <tr>\n",
       "      <th>29</th>\n",
       "      <td>2.637567</td>\n",
       "    </tr>\n",
       "    <tr>\n",
       "      <th>...</th>\n",
       "      <td>...</td>\n",
       "    </tr>\n",
       "    <tr>\n",
       "      <th>1473</th>\n",
       "      <td>1.541550</td>\n",
       "    </tr>\n",
       "    <tr>\n",
       "      <th>1474</th>\n",
       "      <td>2.166627</td>\n",
       "    </tr>\n",
       "    <tr>\n",
       "      <th>1475</th>\n",
       "      <td>2.442341</td>\n",
       "    </tr>\n",
       "    <tr>\n",
       "      <th>1476</th>\n",
       "      <td>1.432151</td>\n",
       "    </tr>\n",
       "    <tr>\n",
       "      <th>1477</th>\n",
       "      <td>1.254687</td>\n",
       "    </tr>\n",
       "    <tr>\n",
       "      <th>1478</th>\n",
       "      <td>2.170104</td>\n",
       "    </tr>\n",
       "    <tr>\n",
       "      <th>1479</th>\n",
       "      <td>1.843235</td>\n",
       "    </tr>\n",
       "    <tr>\n",
       "      <th>1480</th>\n",
       "      <td>1.154465</td>\n",
       "    </tr>\n",
       "    <tr>\n",
       "      <th>1481</th>\n",
       "      <td>2.493733</td>\n",
       "    </tr>\n",
       "    <tr>\n",
       "      <th>1482</th>\n",
       "      <td>0.938271</td>\n",
       "    </tr>\n",
       "    <tr>\n",
       "      <th>1483</th>\n",
       "      <td>1.859272</td>\n",
       "    </tr>\n",
       "    <tr>\n",
       "      <th>1484</th>\n",
       "      <td>1.216356</td>\n",
       "    </tr>\n",
       "    <tr>\n",
       "      <th>1485</th>\n",
       "      <td>1.115984</td>\n",
       "    </tr>\n",
       "    <tr>\n",
       "      <th>1486</th>\n",
       "      <td>1.504243</td>\n",
       "    </tr>\n",
       "    <tr>\n",
       "      <th>1487</th>\n",
       "      <td>0.199061</td>\n",
       "    </tr>\n",
       "    <tr>\n",
       "      <th>1488</th>\n",
       "      <td>2.411437</td>\n",
       "    </tr>\n",
       "    <tr>\n",
       "      <th>1489</th>\n",
       "      <td>3.042571</td>\n",
       "    </tr>\n",
       "    <tr>\n",
       "      <th>1490</th>\n",
       "      <td>1.112637</td>\n",
       "    </tr>\n",
       "    <tr>\n",
       "      <th>1491</th>\n",
       "      <td>2.336243</td>\n",
       "    </tr>\n",
       "    <tr>\n",
       "      <th>1492</th>\n",
       "      <td>1.659301</td>\n",
       "    </tr>\n",
       "    <tr>\n",
       "      <th>1493</th>\n",
       "      <td>1.889469</td>\n",
       "    </tr>\n",
       "    <tr>\n",
       "      <th>1494</th>\n",
       "      <td>0.112873</td>\n",
       "    </tr>\n",
       "    <tr>\n",
       "      <th>1495</th>\n",
       "      <td>2.385128</td>\n",
       "    </tr>\n",
       "    <tr>\n",
       "      <th>1496</th>\n",
       "      <td>1.231372</td>\n",
       "    </tr>\n",
       "    <tr>\n",
       "      <th>1497</th>\n",
       "      <td>2.053301</td>\n",
       "    </tr>\n",
       "    <tr>\n",
       "      <th>1498</th>\n",
       "      <td>1.974429</td>\n",
       "    </tr>\n",
       "    <tr>\n",
       "      <th>1499</th>\n",
       "      <td>1.218373</td>\n",
       "    </tr>\n",
       "    <tr>\n",
       "      <th>1500</th>\n",
       "      <td>0.233196</td>\n",
       "    </tr>\n",
       "    <tr>\n",
       "      <th>1501</th>\n",
       "      <td>1.680612</td>\n",
       "    </tr>\n",
       "    <tr>\n",
       "      <th>1502</th>\n",
       "      <td>2.212348</td>\n",
       "    </tr>\n",
       "  </tbody>\n",
       "</table>\n",
       "<p>1503 rows × 1 columns</p>\n",
       "</div>"
      ],
      "text/plain": [
       "      SalesInMillions\n",
       "0            1.672137\n",
       "1            2.029527\n",
       "2            2.682838\n",
       "3            1.834143\n",
       "4            1.526424\n",
       "5            1.875373\n",
       "6            1.278929\n",
       "7            1.113444\n",
       "8            1.414502\n",
       "9            1.188047\n",
       "10           2.019112\n",
       "11           0.163382\n",
       "12           1.283232\n",
       "13           1.461771\n",
       "14          -0.072685\n",
       "15           3.308074\n",
       "16           1.639405\n",
       "17           1.934643\n",
       "18           0.069307\n",
       "19           2.377157\n",
       "20           1.417587\n",
       "21           0.170361\n",
       "22           1.566259\n",
       "23           1.814085\n",
       "24           1.061955\n",
       "25           0.268562\n",
       "26           0.633210\n",
       "27           1.101830\n",
       "28           3.142657\n",
       "29           2.637567\n",
       "...               ...\n",
       "1473         1.541550\n",
       "1474         2.166627\n",
       "1475         2.442341\n",
       "1476         1.432151\n",
       "1477         1.254687\n",
       "1478         2.170104\n",
       "1479         1.843235\n",
       "1480         1.154465\n",
       "1481         2.493733\n",
       "1482         0.938271\n",
       "1483         1.859272\n",
       "1484         1.216356\n",
       "1485         1.115984\n",
       "1486         1.504243\n",
       "1487         0.199061\n",
       "1488         2.411437\n",
       "1489         3.042571\n",
       "1490         1.112637\n",
       "1491         2.336243\n",
       "1492         1.659301\n",
       "1493         1.889469\n",
       "1494         0.112873\n",
       "1495         2.385128\n",
       "1496         1.231372\n",
       "1497         2.053301\n",
       "1498         1.974429\n",
       "1499         1.218373\n",
       "1500         0.233196\n",
       "1501         1.680612\n",
       "1502         2.212348\n",
       "\n",
       "[1503 rows x 1 columns]"
      ]
     },
     "execution_count": 136,
     "metadata": {},
     "output_type": "execute_result"
    }
   ],
   "source": [
    "sample"
   ]
  },
  {
   "cell_type": "code",
   "execution_count": 137,
   "metadata": {},
   "outputs": [],
   "source": [
    "sample.to_csv('GBR_EST.csv',index=False)"
   ]
  },
  {
   "cell_type": "code",
   "execution_count": null,
   "metadata": {},
   "outputs": [],
   "source": []
  }
 ],
 "metadata": {
  "kernelspec": {
   "display_name": "Python 3",
   "language": "python",
   "name": "python3"
  },
  "language_info": {
   "codemirror_mode": {
    "name": "ipython",
    "version": 3
   },
   "file_extension": ".py",
   "mimetype": "text/x-python",
   "name": "python",
   "nbconvert_exporter": "python",
   "pygments_lexer": "ipython3",
   "version": "3.7.1"
  }
 },
 "nbformat": 4,
 "nbformat_minor": 4
}
