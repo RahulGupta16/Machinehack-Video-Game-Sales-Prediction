{
 "cells": [
  {
   "cell_type": "code",
   "execution_count": 1741,
   "metadata": {},
   "outputs": [],
   "source": [
    "import pandas as pd\n",
    "import re\n",
    "import numpy as np\n",
    "import matplotlib.pyplot as plt\n",
    "import seaborn as sns\n",
    "from sklearn.preprocessing import LabelEncoder, MinMaxScaler, StandardScaler\n",
    "from sklearn.linear_model import LinearRegression\n",
    "from sklearn.metrics import mean_squared_error\n",
    "from sklearn.model_selection import StratifiedKFold, KFold\n",
    "from sklearn.tree import DecisionTreeRegressor\n",
    "from sklearn.ensemble import RandomForestRegressor, AdaBoostRegressor,BaggingRegressor, GradientBoostingRegressor, ExtraTreesRegressor,StackingRegressor,VotingRegressor\n",
    "from sklearn.svm import SVR\n",
    "import xgboost as xgb\n",
    "import lightgbm as lgb\n",
    "import warnings\n",
    "warnings.filterwarnings(action='ignore')"
   ]
  },
  {
   "cell_type": "code",
   "execution_count": 1742,
   "metadata": {},
   "outputs": [],
   "source": [
    "train = pd.read_csv(r'C:\\Users\\Rahul\\Desktop\\Machinehack-Video-Game-Sales-Prediction\\Train.csv')\n",
    "test = pd.read_csv(r'C:\\Users\\Rahul\\Desktop\\Machinehack-Video-Game-Sales-Prediction\\Test.csv')\n",
    "sample = pd.read_csv(r'C:\\Users\\Rahul\\Desktop\\Machinehack-Video-Game-Sales-Prediction\\Sample_Submission.csv')"
   ]
  },
  {
   "cell_type": "code",
   "execution_count": 1743,
   "metadata": {},
   "outputs": [
    {
     "data": {
      "text/html": [
       "<div>\n",
       "<style scoped>\n",
       "    .dataframe tbody tr th:only-of-type {\n",
       "        vertical-align: middle;\n",
       "    }\n",
       "\n",
       "    .dataframe tbody tr th {\n",
       "        vertical-align: top;\n",
       "    }\n",
       "\n",
       "    .dataframe thead th {\n",
       "        text-align: right;\n",
       "    }\n",
       "</style>\n",
       "<table border=\"1\" class=\"dataframe\">\n",
       "  <thead>\n",
       "    <tr style=\"text-align: right;\">\n",
       "      <th></th>\n",
       "      <th>ID</th>\n",
       "      <th>CONSOLE</th>\n",
       "      <th>YEAR</th>\n",
       "      <th>CATEGORY</th>\n",
       "      <th>PUBLISHER</th>\n",
       "      <th>RATING</th>\n",
       "      <th>CRITICS_POINTS</th>\n",
       "      <th>USER_POINTS</th>\n",
       "      <th>SalesInMillions</th>\n",
       "    </tr>\n",
       "  </thead>\n",
       "  <tbody>\n",
       "    <tr>\n",
       "      <th>0</th>\n",
       "      <td>2860</td>\n",
       "      <td>ds</td>\n",
       "      <td>2008</td>\n",
       "      <td>role-playing</td>\n",
       "      <td>Nintendo</td>\n",
       "      <td>E</td>\n",
       "      <td>2.833333</td>\n",
       "      <td>0.303704</td>\n",
       "      <td>1.779257</td>\n",
       "    </tr>\n",
       "    <tr>\n",
       "      <th>1</th>\n",
       "      <td>731</td>\n",
       "      <td>wii</td>\n",
       "      <td>2012</td>\n",
       "      <td>simulation</td>\n",
       "      <td>Konami Digital Entertainment</td>\n",
       "      <td>E10+</td>\n",
       "      <td>13.200000</td>\n",
       "      <td>1.640000</td>\n",
       "      <td>0.215050</td>\n",
       "    </tr>\n",
       "    <tr>\n",
       "      <th>2</th>\n",
       "      <td>495</td>\n",
       "      <td>pc</td>\n",
       "      <td>2019</td>\n",
       "      <td>shooter</td>\n",
       "      <td>Activision</td>\n",
       "      <td>M</td>\n",
       "      <td>4.562500</td>\n",
       "      <td>0.006410</td>\n",
       "      <td>0.534402</td>\n",
       "    </tr>\n",
       "    <tr>\n",
       "      <th>3</th>\n",
       "      <td>2641</td>\n",
       "      <td>ps2</td>\n",
       "      <td>2002</td>\n",
       "      <td>sports</td>\n",
       "      <td>Electronic Arts</td>\n",
       "      <td>E</td>\n",
       "      <td>4.181818</td>\n",
       "      <td>0.326923</td>\n",
       "      <td>1.383964</td>\n",
       "    </tr>\n",
       "    <tr>\n",
       "      <th>4</th>\n",
       "      <td>811</td>\n",
       "      <td>ps3</td>\n",
       "      <td>2013</td>\n",
       "      <td>action</td>\n",
       "      <td>Activision</td>\n",
       "      <td>M</td>\n",
       "      <td>2.259259</td>\n",
       "      <td>0.032579</td>\n",
       "      <td>0.082671</td>\n",
       "    </tr>\n",
       "  </tbody>\n",
       "</table>\n",
       "</div>"
      ],
      "text/plain": [
       "     ID CONSOLE  YEAR      CATEGORY                     PUBLISHER RATING  \\\n",
       "0  2860      ds  2008  role-playing                      Nintendo      E   \n",
       "1   731     wii  2012    simulation  Konami Digital Entertainment   E10+   \n",
       "2   495      pc  2019       shooter                    Activision      M   \n",
       "3  2641     ps2  2002        sports               Electronic Arts      E   \n",
       "4   811     ps3  2013        action                    Activision      M   \n",
       "\n",
       "   CRITICS_POINTS  USER_POINTS  SalesInMillions  \n",
       "0        2.833333     0.303704         1.779257  \n",
       "1       13.200000     1.640000         0.215050  \n",
       "2        4.562500     0.006410         0.534402  \n",
       "3        4.181818     0.326923         1.383964  \n",
       "4        2.259259     0.032579         0.082671  "
      ]
     },
     "execution_count": 1743,
     "metadata": {},
     "output_type": "execute_result"
    }
   ],
   "source": [
    "train.head()"
   ]
  },
  {
   "cell_type": "code",
   "execution_count": 1744,
   "metadata": {},
   "outputs": [
    {
     "data": {
      "text/html": [
       "<div>\n",
       "<style scoped>\n",
       "    .dataframe tbody tr th:only-of-type {\n",
       "        vertical-align: middle;\n",
       "    }\n",
       "\n",
       "    .dataframe tbody tr th {\n",
       "        vertical-align: top;\n",
       "    }\n",
       "\n",
       "    .dataframe thead th {\n",
       "        text-align: right;\n",
       "    }\n",
       "</style>\n",
       "<table border=\"1\" class=\"dataframe\">\n",
       "  <thead>\n",
       "    <tr style=\"text-align: right;\">\n",
       "      <th></th>\n",
       "      <th>ID</th>\n",
       "      <th>CONSOLE</th>\n",
       "      <th>YEAR</th>\n",
       "      <th>CATEGORY</th>\n",
       "      <th>PUBLISHER</th>\n",
       "      <th>RATING</th>\n",
       "      <th>CRITICS_POINTS</th>\n",
       "      <th>USER_POINTS</th>\n",
       "    </tr>\n",
       "  </thead>\n",
       "  <tbody>\n",
       "    <tr>\n",
       "      <th>0</th>\n",
       "      <td>4310</td>\n",
       "      <td>ps2</td>\n",
       "      <td>2008</td>\n",
       "      <td>action</td>\n",
       "      <td>Tecmo Koei</td>\n",
       "      <td>T</td>\n",
       "      <td>3.928571</td>\n",
       "      <td>0.482353</td>\n",
       "    </tr>\n",
       "    <tr>\n",
       "      <th>1</th>\n",
       "      <td>4011</td>\n",
       "      <td>psp</td>\n",
       "      <td>2007</td>\n",
       "      <td>strategy</td>\n",
       "      <td>Atari</td>\n",
       "      <td>E10+</td>\n",
       "      <td>5.538462</td>\n",
       "      <td>0.071795</td>\n",
       "    </tr>\n",
       "    <tr>\n",
       "      <th>2</th>\n",
       "      <td>2185</td>\n",
       "      <td>ps2</td>\n",
       "      <td>2004</td>\n",
       "      <td>shooter</td>\n",
       "      <td>Electronic Arts</td>\n",
       "      <td>T</td>\n",
       "      <td>3.034483</td>\n",
       "      <td>0.062044</td>\n",
       "    </tr>\n",
       "    <tr>\n",
       "      <th>3</th>\n",
       "      <td>1644</td>\n",
       "      <td>x</td>\n",
       "      <td>2006</td>\n",
       "      <td>action</td>\n",
       "      <td>Electronic Arts</td>\n",
       "      <td>E</td>\n",
       "      <td>2.913043</td>\n",
       "      <td>0.880000</td>\n",
       "    </tr>\n",
       "    <tr>\n",
       "      <th>4</th>\n",
       "      <td>188</td>\n",
       "      <td>3ds</td>\n",
       "      <td>2011</td>\n",
       "      <td>racing</td>\n",
       "      <td>Ubisoft</td>\n",
       "      <td>E10+</td>\n",
       "      <td>1.162162</td>\n",
       "      <td>0.183333</td>\n",
       "    </tr>\n",
       "  </tbody>\n",
       "</table>\n",
       "</div>"
      ],
      "text/plain": [
       "     ID CONSOLE  YEAR  CATEGORY        PUBLISHER RATING  CRITICS_POINTS  \\\n",
       "0  4310     ps2  2008    action       Tecmo Koei      T        3.928571   \n",
       "1  4011     psp  2007  strategy            Atari   E10+        5.538462   \n",
       "2  2185     ps2  2004   shooter  Electronic Arts      T        3.034483   \n",
       "3  1644       x  2006    action  Electronic Arts      E        2.913043   \n",
       "4   188     3ds  2011    racing          Ubisoft   E10+        1.162162   \n",
       "\n",
       "   USER_POINTS  \n",
       "0     0.482353  \n",
       "1     0.071795  \n",
       "2     0.062044  \n",
       "3     0.880000  \n",
       "4     0.183333  "
      ]
     },
     "execution_count": 1744,
     "metadata": {},
     "output_type": "execute_result"
    }
   ],
   "source": [
    "test.head()"
   ]
  },
  {
   "cell_type": "code",
   "execution_count": 1745,
   "metadata": {},
   "outputs": [
    {
     "name": "stdout",
     "output_type": "stream",
     "text": [
      "<class 'pandas.core.frame.DataFrame'>\n",
      "RangeIndex: 3506 entries, 0 to 3505\n",
      "Data columns (total 9 columns):\n",
      "ID                 3506 non-null int64\n",
      "CONSOLE            3506 non-null object\n",
      "YEAR               3506 non-null int64\n",
      "CATEGORY           3506 non-null object\n",
      "PUBLISHER          3506 non-null object\n",
      "RATING             3506 non-null object\n",
      "CRITICS_POINTS     3506 non-null float64\n",
      "USER_POINTS        3506 non-null float64\n",
      "SalesInMillions    3506 non-null float64\n",
      "dtypes: float64(3), int64(2), object(4)\n",
      "memory usage: 246.6+ KB\n"
     ]
    }
   ],
   "source": [
    "train.info()"
   ]
  },
  {
   "cell_type": "code",
   "execution_count": 1746,
   "metadata": {},
   "outputs": [
    {
     "name": "stdout",
     "output_type": "stream",
     "text": [
      "<class 'pandas.core.frame.DataFrame'>\n",
      "RangeIndex: 1503 entries, 0 to 1502\n",
      "Data columns (total 8 columns):\n",
      "ID                1503 non-null int64\n",
      "CONSOLE           1503 non-null object\n",
      "YEAR              1503 non-null int64\n",
      "CATEGORY          1503 non-null object\n",
      "PUBLISHER         1503 non-null object\n",
      "RATING            1503 non-null object\n",
      "CRITICS_POINTS    1503 non-null float64\n",
      "USER_POINTS       1503 non-null float64\n",
      "dtypes: float64(2), int64(2), object(4)\n",
      "memory usage: 94.0+ KB\n"
     ]
    }
   ],
   "source": [
    "test.info()"
   ]
  },
  {
   "cell_type": "code",
   "execution_count": 1747,
   "metadata": {},
   "outputs": [
    {
     "data": {
      "text/html": [
       "<div>\n",
       "<style scoped>\n",
       "    .dataframe tbody tr th:only-of-type {\n",
       "        vertical-align: middle;\n",
       "    }\n",
       "\n",
       "    .dataframe tbody tr th {\n",
       "        vertical-align: top;\n",
       "    }\n",
       "\n",
       "    .dataframe thead th {\n",
       "        text-align: right;\n",
       "    }\n",
       "</style>\n",
       "<table border=\"1\" class=\"dataframe\">\n",
       "  <thead>\n",
       "    <tr style=\"text-align: right;\">\n",
       "      <th></th>\n",
       "      <th>ID</th>\n",
       "      <th>YEAR</th>\n",
       "      <th>CRITICS_POINTS</th>\n",
       "      <th>USER_POINTS</th>\n",
       "      <th>SalesInMillions</th>\n",
       "    </tr>\n",
       "  </thead>\n",
       "  <tbody>\n",
       "    <tr>\n",
       "      <th>count</th>\n",
       "      <td>3506.000000</td>\n",
       "      <td>3506.000000</td>\n",
       "      <td>3506.000000</td>\n",
       "      <td>3506.000000</td>\n",
       "      <td>3506.000000</td>\n",
       "    </tr>\n",
       "    <tr>\n",
       "      <th>mean</th>\n",
       "      <td>2282.233600</td>\n",
       "      <td>2008.990302</td>\n",
       "      <td>3.790831</td>\n",
       "      <td>0.405824</td>\n",
       "      <td>2.171021</td>\n",
       "    </tr>\n",
       "    <tr>\n",
       "      <th>std</th>\n",
       "      <td>1287.273422</td>\n",
       "      <td>4.304252</td>\n",
       "      <td>3.141781</td>\n",
       "      <td>0.455541</td>\n",
       "      <td>2.495396</td>\n",
       "    </tr>\n",
       "    <tr>\n",
       "      <th>min</th>\n",
       "      <td>1.000000</td>\n",
       "      <td>1997.000000</td>\n",
       "      <td>0.568966</td>\n",
       "      <td>0.000341</td>\n",
       "      <td>0.001524</td>\n",
       "    </tr>\n",
       "    <tr>\n",
       "      <th>25%</th>\n",
       "      <td>1220.250000</td>\n",
       "      <td>2006.000000</td>\n",
       "      <td>1.738095</td>\n",
       "      <td>0.065966</td>\n",
       "      <td>0.965679</td>\n",
       "    </tr>\n",
       "    <tr>\n",
       "      <th>50%</th>\n",
       "      <td>2262.500000</td>\n",
       "      <td>2009.000000</td>\n",
       "      <td>2.766667</td>\n",
       "      <td>0.233333</td>\n",
       "      <td>1.866140</td>\n",
       "    </tr>\n",
       "    <tr>\n",
       "      <th>75%</th>\n",
       "      <td>3404.750000</td>\n",
       "      <td>2012.000000</td>\n",
       "      <td>4.621528</td>\n",
       "      <td>0.598333</td>\n",
       "      <td>2.792029</td>\n",
       "    </tr>\n",
       "    <tr>\n",
       "      <th>max</th>\n",
       "      <td>4523.000000</td>\n",
       "      <td>2019.000000</td>\n",
       "      <td>23.250000</td>\n",
       "      <td>2.325000</td>\n",
       "      <td>84.226041</td>\n",
       "    </tr>\n",
       "  </tbody>\n",
       "</table>\n",
       "</div>"
      ],
      "text/plain": [
       "                ID         YEAR  CRITICS_POINTS  USER_POINTS  SalesInMillions\n",
       "count  3506.000000  3506.000000     3506.000000  3506.000000      3506.000000\n",
       "mean   2282.233600  2008.990302        3.790831     0.405824         2.171021\n",
       "std    1287.273422     4.304252        3.141781     0.455541         2.495396\n",
       "min       1.000000  1997.000000        0.568966     0.000341         0.001524\n",
       "25%    1220.250000  2006.000000        1.738095     0.065966         0.965679\n",
       "50%    2262.500000  2009.000000        2.766667     0.233333         1.866140\n",
       "75%    3404.750000  2012.000000        4.621528     0.598333         2.792029\n",
       "max    4523.000000  2019.000000       23.250000     2.325000        84.226041"
      ]
     },
     "execution_count": 1747,
     "metadata": {},
     "output_type": "execute_result"
    }
   ],
   "source": [
    "train.describe()"
   ]
  },
  {
   "cell_type": "code",
   "execution_count": 1748,
   "metadata": {},
   "outputs": [
    {
     "data": {
      "text/html": [
       "<div>\n",
       "<style scoped>\n",
       "    .dataframe tbody tr th:only-of-type {\n",
       "        vertical-align: middle;\n",
       "    }\n",
       "\n",
       "    .dataframe tbody tr th {\n",
       "        vertical-align: top;\n",
       "    }\n",
       "\n",
       "    .dataframe thead th {\n",
       "        text-align: right;\n",
       "    }\n",
       "</style>\n",
       "<table border=\"1\" class=\"dataframe\">\n",
       "  <thead>\n",
       "    <tr style=\"text-align: right;\">\n",
       "      <th></th>\n",
       "      <th>ID</th>\n",
       "      <th>YEAR</th>\n",
       "      <th>CRITICS_POINTS</th>\n",
       "      <th>USER_POINTS</th>\n",
       "    </tr>\n",
       "  </thead>\n",
       "  <tbody>\n",
       "    <tr>\n",
       "      <th>count</th>\n",
       "      <td>1503.000000</td>\n",
       "      <td>1503.000000</td>\n",
       "      <td>1503.000000</td>\n",
       "      <td>1503.000000</td>\n",
       "    </tr>\n",
       "    <tr>\n",
       "      <th>mean</th>\n",
       "      <td>2317.475715</td>\n",
       "      <td>2008.984697</td>\n",
       "      <td>3.873088</td>\n",
       "      <td>0.402628</td>\n",
       "    </tr>\n",
       "    <tr>\n",
       "      <th>std</th>\n",
       "      <td>1308.855461</td>\n",
       "      <td>4.461005</td>\n",
       "      <td>3.314295</td>\n",
       "      <td>0.455853</td>\n",
       "    </tr>\n",
       "    <tr>\n",
       "      <th>min</th>\n",
       "      <td>0.000000</td>\n",
       "      <td>1988.000000</td>\n",
       "      <td>0.755319</td>\n",
       "      <td>0.000481</td>\n",
       "    </tr>\n",
       "    <tr>\n",
       "      <th>25%</th>\n",
       "      <td>1177.000000</td>\n",
       "      <td>2006.000000</td>\n",
       "      <td>1.744186</td>\n",
       "      <td>0.071309</td>\n",
       "    </tr>\n",
       "    <tr>\n",
       "      <th>50%</th>\n",
       "      <td>2363.000000</td>\n",
       "      <td>2009.000000</td>\n",
       "      <td>2.812500</td>\n",
       "      <td>0.228571</td>\n",
       "    </tr>\n",
       "    <tr>\n",
       "      <th>75%</th>\n",
       "      <td>3478.000000</td>\n",
       "      <td>2012.000000</td>\n",
       "      <td>4.675439</td>\n",
       "      <td>0.562019</td>\n",
       "    </tr>\n",
       "    <tr>\n",
       "      <th>max</th>\n",
       "      <td>4516.000000</td>\n",
       "      <td>2019.000000</td>\n",
       "      <td>21.500000</td>\n",
       "      <td>2.375000</td>\n",
       "    </tr>\n",
       "  </tbody>\n",
       "</table>\n",
       "</div>"
      ],
      "text/plain": [
       "                ID         YEAR  CRITICS_POINTS  USER_POINTS\n",
       "count  1503.000000  1503.000000     1503.000000  1503.000000\n",
       "mean   2317.475715  2008.984697        3.873088     0.402628\n",
       "std    1308.855461     4.461005        3.314295     0.455853\n",
       "min       0.000000  1988.000000        0.755319     0.000481\n",
       "25%    1177.000000  2006.000000        1.744186     0.071309\n",
       "50%    2363.000000  2009.000000        2.812500     0.228571\n",
       "75%    3478.000000  2012.000000        4.675439     0.562019\n",
       "max    4516.000000  2019.000000       21.500000     2.375000"
      ]
     },
     "execution_count": 1748,
     "metadata": {},
     "output_type": "execute_result"
    }
   ],
   "source": [
    "test.describe()"
   ]
  },
  {
   "cell_type": "code",
   "execution_count": 1749,
   "metadata": {},
   "outputs": [
    {
     "data": {
      "text/html": [
       "<div>\n",
       "<style scoped>\n",
       "    .dataframe tbody tr th:only-of-type {\n",
       "        vertical-align: middle;\n",
       "    }\n",
       "\n",
       "    .dataframe tbody tr th {\n",
       "        vertical-align: top;\n",
       "    }\n",
       "\n",
       "    .dataframe thead th {\n",
       "        text-align: right;\n",
       "    }\n",
       "</style>\n",
       "<table border=\"1\" class=\"dataframe\">\n",
       "  <thead>\n",
       "    <tr style=\"text-align: right;\">\n",
       "      <th></th>\n",
       "      <th>ID</th>\n",
       "      <th>CONSOLE</th>\n",
       "      <th>YEAR</th>\n",
       "      <th>CATEGORY</th>\n",
       "      <th>PUBLISHER</th>\n",
       "      <th>RATING</th>\n",
       "      <th>CRITICS_POINTS</th>\n",
       "      <th>USER_POINTS</th>\n",
       "      <th>SalesInMillions</th>\n",
       "    </tr>\n",
       "  </thead>\n",
       "  <tbody>\n",
       "    <tr>\n",
       "      <th>0</th>\n",
       "      <td>2860</td>\n",
       "      <td>ds</td>\n",
       "      <td>2008</td>\n",
       "      <td>role-playing</td>\n",
       "      <td>Nintendo</td>\n",
       "      <td>E</td>\n",
       "      <td>2.833333</td>\n",
       "      <td>0.303704</td>\n",
       "      <td>1.779257</td>\n",
       "    </tr>\n",
       "    <tr>\n",
       "      <th>1</th>\n",
       "      <td>731</td>\n",
       "      <td>wii</td>\n",
       "      <td>2012</td>\n",
       "      <td>simulation</td>\n",
       "      <td>Konami Digital Entertainment</td>\n",
       "      <td>E10+</td>\n",
       "      <td>13.200000</td>\n",
       "      <td>1.640000</td>\n",
       "      <td>0.215050</td>\n",
       "    </tr>\n",
       "    <tr>\n",
       "      <th>2</th>\n",
       "      <td>495</td>\n",
       "      <td>pc</td>\n",
       "      <td>2019</td>\n",
       "      <td>shooter</td>\n",
       "      <td>Activision</td>\n",
       "      <td>M</td>\n",
       "      <td>4.562500</td>\n",
       "      <td>0.006410</td>\n",
       "      <td>0.534402</td>\n",
       "    </tr>\n",
       "    <tr>\n",
       "      <th>3</th>\n",
       "      <td>2641</td>\n",
       "      <td>ps2</td>\n",
       "      <td>2002</td>\n",
       "      <td>sports</td>\n",
       "      <td>Electronic Arts</td>\n",
       "      <td>E</td>\n",
       "      <td>4.181818</td>\n",
       "      <td>0.326923</td>\n",
       "      <td>1.383964</td>\n",
       "    </tr>\n",
       "    <tr>\n",
       "      <th>4</th>\n",
       "      <td>811</td>\n",
       "      <td>ps3</td>\n",
       "      <td>2013</td>\n",
       "      <td>action</td>\n",
       "      <td>Activision</td>\n",
       "      <td>M</td>\n",
       "      <td>2.259259</td>\n",
       "      <td>0.032579</td>\n",
       "      <td>0.082671</td>\n",
       "    </tr>\n",
       "  </tbody>\n",
       "</table>\n",
       "</div>"
      ],
      "text/plain": [
       "     ID CONSOLE  YEAR      CATEGORY                     PUBLISHER RATING  \\\n",
       "0  2860      ds  2008  role-playing                      Nintendo      E   \n",
       "1   731     wii  2012    simulation  Konami Digital Entertainment   E10+   \n",
       "2   495      pc  2019       shooter                    Activision      M   \n",
       "3  2641     ps2  2002        sports               Electronic Arts      E   \n",
       "4   811     ps3  2013        action                    Activision      M   \n",
       "\n",
       "   CRITICS_POINTS  USER_POINTS  SalesInMillions  \n",
       "0        2.833333     0.303704         1.779257  \n",
       "1       13.200000     1.640000         0.215050  \n",
       "2        4.562500     0.006410         0.534402  \n",
       "3        4.181818     0.326923         1.383964  \n",
       "4        2.259259     0.032579         0.082671  "
      ]
     },
     "execution_count": 1749,
     "metadata": {},
     "output_type": "execute_result"
    }
   ],
   "source": [
    "train.head()"
   ]
  },
  {
   "cell_type": "code",
   "execution_count": 1750,
   "metadata": {},
   "outputs": [],
   "source": [
    "test.loc[623,'RATING'] = 'T'\n",
    "train.loc[286,'RATING'] = 'T'"
   ]
  },
  {
   "cell_type": "code",
   "execution_count": 1751,
   "metadata": {},
   "outputs": [],
   "source": [
    "test.loc[940,'CONSOLE']='ps2'"
   ]
  },
  {
   "cell_type": "code",
   "execution_count": 1752,
   "metadata": {},
   "outputs": [],
   "source": [
    "tr_ix = train[train.RATING=='RP'].index\n",
    "train.drop(index=tr_ix,inplace=True)"
   ]
  },
  {
   "cell_type": "code",
   "execution_count": 1753,
   "metadata": {
    "scrolled": true
   },
   "outputs": [],
   "source": [
    "train.drop(index=train[train.CONSOLE=='dc'].index,inplace=True)\n",
    "train.reset_index(drop=True,inplace=True)"
   ]
  },
  {
   "cell_type": "code",
   "execution_count": 1754,
   "metadata": {},
   "outputs": [],
   "source": [
    "train.PUBLISHER=train.PUBLISHER.apply(lambda x : 'Ubisoft' if re.search('Ubisoft|Squaresoft',x) else x)\n",
    "train.PUBLISHER=train.PUBLISHER.apply(lambda x : 'Sony' if re.search('Sony',x) else x)\n",
    "train.PUBLISHER=train.PUBLISHER.apply(lambda x : 'Software' if re.search('Software',x) else x)\n",
    "train.PUBLISHER=train.PUBLISHER.apply(lambda x : 'Thq' if re.search('Thq|thq',x) else x)\n",
    "train.PUBLISHER=train.PUBLISHER.apply(lambda x : 'Electronic Arts' if re.search('Ea',x) else x)\n",
    "\n",
    "test.PUBLISHER=test.PUBLISHER.apply(lambda x : 'Thq' if re.search('Thq|thq',x) else x)\n",
    "test.PUBLISHER=test.PUBLISHER.apply(lambda x : 'Electronic Arts' if re.search('Ea',x) else x)\n",
    "test.PUBLISHER=test.PUBLISHER.apply(lambda x : 'Ubisoft' if re.search('Ubisoft|Squaresoft',x) else x)\n",
    "test.PUBLISHER=test.PUBLISHER.apply(lambda x : 'Sony' if re.search('Sony',x) else x)\n",
    "test.PUBLISHER=test.PUBLISHER.apply(lambda x : 'Software' if re.search('Software',x) else x)"
   ]
  },
  {
   "cell_type": "code",
   "execution_count": 1755,
   "metadata": {
    "scrolled": true
   },
   "outputs": [
    {
     "name": "stdout",
     "output_type": "stream",
     "text": [
      "skew : 13.474348452319205, Kurt : 362.4353565283719\n"
     ]
    },
    {
     "data": {
      "image/png": "[encoded data removed]",
      "text/plain": [
       "<Figure size 432x288 with 1 Axes>"
      ]
     },
     "metadata": {
      "needs_background": "light"
     },
     "output_type": "display_data"
    }
   ],
   "source": [
    "sns.distplot(train.SalesInMillions)\n",
    "print(f'skew : {train.SalesInMillions.skew()}, Kurt : {train.SalesInMillions.kurt()}')"
   ]
  },
  {
   "cell_type": "code",
   "execution_count": 1756,
   "metadata": {},
   "outputs": [
    {
     "name": "stdout",
     "output_type": "stream",
     "text": [
      "skew : 0.4319163984181297, Kurt : 1.6767677432623453\n"
     ]
    },
    {
     "data": {
      "image/png": "[encoded data removed]",
      "text/plain": [
       "<Figure size 432x288 with 1 Axes>"
      ]
     },
     "metadata": {
      "needs_background": "light"
     },
     "output_type": "display_data"
    }
   ],
   "source": [
    "sns.distplot(np.log1p(train.SalesInMillions))\n",
    "print(f'skew : {np.log1p(train.SalesInMillions).skew()}, Kurt : {np.log1p(train.SalesInMillions).kurt()}')"
   ]
  },
  {
   "cell_type": "code",
   "execution_count": 1757,
   "metadata": {},
   "outputs": [],
   "source": [
    "train['SalesInMillions'] = np.log1p(train.SalesInMillions)"
   ]
  },
  {
   "cell_type": "code",
   "execution_count": 1758,
   "metadata": {},
   "outputs": [],
   "source": [
    "q1 = np.log1p(train.SalesInMillions).quantile(0.25)\n",
    "q3 = np.log1p(train.SalesInMillions).quantile(0.75)\n",
    "iqr = q3 - q1\n",
    "upper = q3 + 99.5*iqr\n",
    "lower = q1 - 98.5*iqr\n",
    "d = train[train.SalesInMillions > upper].index\n",
    "m = train[train.SalesInMillions < lower].index\n",
    "#print(d,m)\n",
    "#train.drop(index = d , inplace=True)\n",
    "#train.drop(index = m , inplace=True)"
   ]
  },
  {
   "cell_type": "code",
   "execution_count": 1759,
   "metadata": {},
   "outputs": [],
   "source": [
    "train.reset_index(drop = True, inplace=True)"
   ]
  },
  {
   "cell_type": "code",
   "execution_count": 1760,
   "metadata": {},
   "outputs": [],
   "source": [
    "train['Total_Points'] = train.CRITICS_POINTS + train.USER_POINTS\n",
    "test['Total_Points'] = test.CRITICS_POINTS + test.USER_POINTS"
   ]
  },
  {
   "cell_type": "code",
   "execution_count": 1761,
   "metadata": {},
   "outputs": [],
   "source": [
    "train['Diff_Points'] = train.CRITICS_POINTS - train.USER_POINTS\n",
    "test['Diff_Points'] = test.CRITICS_POINTS - test.USER_POINTS"
   ]
  },
  {
   "cell_type": "code",
   "execution_count": 1762,
   "metadata": {},
   "outputs": [
    {
     "data": {
      "text/plain": [
       "<matplotlib.axes._subplots.AxesSubplot at 0x219f468ae48>"
      ]
     },
     "execution_count": 1762,
     "metadata": {},
     "output_type": "execute_result"
    },
    {
     "data": {
      "image/png": "[encoded data removed]",
      "text/plain": [
       "<Figure size 432x288 with 1 Axes>"
      ]
     },
     "metadata": {
      "needs_background": "light"
     },
     "output_type": "display_data"
    }
   ],
   "source": [
    "sns.boxplot(train.CONSOLE,train.SalesInMillions)"
   ]
  },
  {
   "cell_type": "code",
   "execution_count": 1763,
   "metadata": {},
   "outputs": [
    {
     "data": {
      "text/html": [
       "<div>\n",
       "<style scoped>\n",
       "    .dataframe tbody tr th:only-of-type {\n",
       "        vertical-align: middle;\n",
       "    }\n",
       "\n",
       "    .dataframe tbody tr th {\n",
       "        vertical-align: top;\n",
       "    }\n",
       "\n",
       "    .dataframe thead th {\n",
       "        text-align: right;\n",
       "    }\n",
       "</style>\n",
       "<table border=\"1\" class=\"dataframe\">\n",
       "  <thead>\n",
       "    <tr style=\"text-align: right;\">\n",
       "      <th></th>\n",
       "      <th>ID</th>\n",
       "      <th>CONSOLE</th>\n",
       "      <th>YEAR</th>\n",
       "      <th>CATEGORY</th>\n",
       "      <th>PUBLISHER</th>\n",
       "      <th>RATING</th>\n",
       "      <th>CRITICS_POINTS</th>\n",
       "      <th>USER_POINTS</th>\n",
       "      <th>SalesInMillions</th>\n",
       "      <th>Total_Points</th>\n",
       "      <th>Diff_Points</th>\n",
       "    </tr>\n",
       "  </thead>\n",
       "  <tbody>\n",
       "    <tr>\n",
       "      <th>1032</th>\n",
       "      <td>4344</td>\n",
       "      <td>wii</td>\n",
       "      <td>2007</td>\n",
       "      <td>sports</td>\n",
       "      <td>Nintendo</td>\n",
       "      <td>E</td>\n",
       "      <td>1.490196</td>\n",
       "      <td>0.024691</td>\n",
       "      <td>4.445307</td>\n",
       "      <td>1.514887</td>\n",
       "      <td>1.465505</td>\n",
       "    </tr>\n",
       "  </tbody>\n",
       "</table>\n",
       "</div>"
      ],
      "text/plain": [
       "        ID CONSOLE  YEAR CATEGORY PUBLISHER RATING  CRITICS_POINTS  \\\n",
       "1032  4344     wii  2007   sports  Nintendo      E        1.490196   \n",
       "\n",
       "      USER_POINTS  SalesInMillions  Total_Points  Diff_Points  \n",
       "1032     0.024691         4.445307      1.514887     1.465505  "
      ]
     },
     "execution_count": 1763,
     "metadata": {},
     "output_type": "execute_result"
    }
   ],
   "source": [
    "train[train.SalesInMillions>3.6]"
   ]
  },
  {
   "cell_type": "code",
   "execution_count": 1764,
   "metadata": {},
   "outputs": [
    {
     "data": {
      "text/plain": [
       "<matplotlib.axes._subplots.AxesSubplot at 0x219f54eeef0>"
      ]
     },
     "execution_count": 1764,
     "metadata": {},
     "output_type": "execute_result"
    },
    {
     "data": {
      "image/png": "[encoded data removed]",
      "text/plain": [
       "<Figure size 432x288 with 1 Axes>"
      ]
     },
     "metadata": {
      "needs_background": "light"
     },
     "output_type": "display_data"
    }
   ],
   "source": [
    "sns.scatterplot(train.CRITICS_POINTS,train.SalesInMillions,hue=train.RATING)"
   ]
  },
  {
   "cell_type": "code",
   "execution_count": 1765,
   "metadata": {},
   "outputs": [],
   "source": [
    "i2=train[train.SalesInMillions>3.4].index\n",
    "train.drop(index=i2,inplace=True)\n",
    "train.reset_index(drop=True,inplace=True)"
   ]
  },
  {
   "cell_type": "markdown",
   "metadata": {},
   "source": [
    "# ID"
   ]
  },
  {
   "cell_type": "code",
   "execution_count": 1766,
   "metadata": {},
   "outputs": [],
   "source": [
    "train['OLD'] = 2020-train['YEAR']\n",
    "test['OLD'] = 2020-test['YEAR']"
   ]
  },
  {
   "cell_type": "code",
   "execution_count": 1767,
   "metadata": {},
   "outputs": [],
   "source": [
    "train['RAT_CON_CAT_P_mean']=train.groupby(['RATING','CONSOLE','CATEGORY'])[['Total_Points']].transform('mean')\n",
    "train['RAT_CON_CAT_P_max']=train.groupby(['RATING','CONSOLE','CATEGORY'])[['Total_Points']].transform('max')\n",
    "train['RAT_CON_CAT_P_sum']=train.groupby(['RATING','CONSOLE','CATEGORY'])[['Total_Points']].transform('sum')\n",
    "train['RAT_CON_CAT_P_min']=train.groupby(['RATING','CONSOLE','CATEGORY'])[['Total_Points']].transform('min')\n",
    "train['RAT_CON_CAT_P_count']=train.groupby(['RATING','CONSOLE','CATEGORY'])[['Total_Points']].transform('count')\n",
    "\n",
    "\n",
    "train['RAT_CON_CAT_OLD_P_mean']=train.groupby(['RATING','CONSOLE','CATEGORY','OLD'])[['Total_Points']].transform('mean')\n",
    "train['RAT_CON_CAT_OLD_P_max']=train.groupby(['RATING','CONSOLE','CATEGORY','OLD'])[['Total_Points']].transform('max')\n",
    "train['RAT_CON_CAT_OLD_P_min']=train.groupby(['RATING','CONSOLE','CATEGORY','OLD'])[['Total_Points']].transform('min')\n",
    "train['RAT_CON_CAT_OLD_P_count']=train.groupby(['RATING','CONSOLE','CATEGORY','OLD'])[['Total_Points']].transform('count')\n",
    "\n",
    "train['RAT_PUB_TP']=train.groupby(['PUBLISHER','RATING'])[['Total_Points']].transform('mean')\n",
    "\n",
    "test['RAT_CON_CAT_P_mean']=test.groupby(['RATING','CONSOLE','CATEGORY'])[['Total_Points']].transform('mean')\n",
    "test['RAT_CON_CAT_P_max']=test.groupby(['RATING','CONSOLE','CATEGORY'])[['Total_Points']].transform('max')\n",
    "test['RAT_CON_CAT_P_sum']=test.groupby(['RATING','CONSOLE','CATEGORY'])[['Total_Points']].transform('sum')\n",
    "test['RAT_CON_CAT_P_min']=test.groupby(['RATING','CONSOLE','CATEGORY'])[['Total_Points']].transform('min')\n",
    "test['RAT_CON_CAT_P_count']=test.groupby(['RATING','CONSOLE','CATEGORY'])[['Total_Points']].transform('count')\n",
    "\n",
    "test['RAT_CON_CAT_OLD_P_mean']=test.groupby(['RATING','CONSOLE','CATEGORY','OLD'])[['Total_Points']].transform('mean')\n",
    "test['RAT_CON_CAT_OLD_P_max']=test.groupby(['RATING','CONSOLE','CATEGORY','OLD'])[['Total_Points']].transform('max')\n",
    "test['RAT_CON_CAT_OLD_P_min']=test.groupby(['RATING','CONSOLE','CATEGORY','OLD'])[['Total_Points']].transform('min')\n",
    "test['RAT_CON_CAT_OLD_P_count']=test.groupby(['RATING','CONSOLE','CATEGORY','OLD'])[['Total_Points']].transform('count')\n",
    "\n",
    "test['RAT_PUB_TP']=test.groupby(['PUBLISHER','RATING'])[['Total_Points']].transform('mean')"
   ]
  },
  {
   "cell_type": "code",
   "execution_count": 1768,
   "metadata": {
    "scrolled": true
   },
   "outputs": [
    {
     "data": {
      "text/html": [
       "<div>\n",
       "<style scoped>\n",
       "    .dataframe tbody tr th:only-of-type {\n",
       "        vertical-align: middle;\n",
       "    }\n",
       "\n",
       "    .dataframe tbody tr th {\n",
       "        vertical-align: top;\n",
       "    }\n",
       "\n",
       "    .dataframe thead th {\n",
       "        text-align: right;\n",
       "    }\n",
       "</style>\n",
       "<table border=\"1\" class=\"dataframe\">\n",
       "  <thead>\n",
       "    <tr style=\"text-align: right;\">\n",
       "      <th></th>\n",
       "      <th>ID</th>\n",
       "      <th>CONSOLE</th>\n",
       "      <th>YEAR</th>\n",
       "      <th>CATEGORY</th>\n",
       "      <th>PUBLISHER</th>\n",
       "      <th>RATING</th>\n",
       "      <th>CRITICS_POINTS</th>\n",
       "      <th>USER_POINTS</th>\n",
       "      <th>SalesInMillions</th>\n",
       "      <th>Total_Points</th>\n",
       "      <th>...</th>\n",
       "      <th>RAT_CON_CAT_P_mean</th>\n",
       "      <th>RAT_CON_CAT_P_max</th>\n",
       "      <th>RAT_CON_CAT_P_sum</th>\n",
       "      <th>RAT_CON_CAT_P_min</th>\n",
       "      <th>RAT_CON_CAT_P_count</th>\n",
       "      <th>RAT_CON_CAT_OLD_P_mean</th>\n",
       "      <th>RAT_CON_CAT_OLD_P_max</th>\n",
       "      <th>RAT_CON_CAT_OLD_P_min</th>\n",
       "      <th>RAT_CON_CAT_OLD_P_count</th>\n",
       "      <th>RAT_PUB_TP</th>\n",
       "    </tr>\n",
       "  </thead>\n",
       "  <tbody>\n",
       "    <tr>\n",
       "      <th>3257</th>\n",
       "      <td>20</td>\n",
       "      <td>xone</td>\n",
       "      <td>2016</td>\n",
       "      <td>action</td>\n",
       "      <td>Telltale Games</td>\n",
       "      <td>M</td>\n",
       "      <td>2.058824</td>\n",
       "      <td>0.068831</td>\n",
       "      <td>0.435865</td>\n",
       "      <td>2.127655</td>\n",
       "      <td>...</td>\n",
       "      <td>5.219601</td>\n",
       "      <td>14.221429</td>\n",
       "      <td>62.635215</td>\n",
       "      <td>1.137907</td>\n",
       "      <td>12</td>\n",
       "      <td>4.758178</td>\n",
       "      <td>6.938778</td>\n",
       "      <td>2.127655</td>\n",
       "      <td>3</td>\n",
       "      <td>6.240097</td>\n",
       "    </tr>\n",
       "    <tr>\n",
       "      <th>3351</th>\n",
       "      <td>20</td>\n",
       "      <td>ps4</td>\n",
       "      <td>2016</td>\n",
       "      <td>action</td>\n",
       "      <td>Telltale Games</td>\n",
       "      <td>M</td>\n",
       "      <td>2.812500</td>\n",
       "      <td>0.040136</td>\n",
       "      <td>0.665867</td>\n",
       "      <td>2.852636</td>\n",
       "      <td>...</td>\n",
       "      <td>2.498864</td>\n",
       "      <td>12.037736</td>\n",
       "      <td>52.476153</td>\n",
       "      <td>0.844887</td>\n",
       "      <td>21</td>\n",
       "      <td>3.326859</td>\n",
       "      <td>12.037736</td>\n",
       "      <td>0.883267</td>\n",
       "      <td>6</td>\n",
       "      <td>6.240097</td>\n",
       "    </tr>\n",
       "  </tbody>\n",
       "</table>\n",
       "<p>2 rows × 22 columns</p>\n",
       "</div>"
      ],
      "text/plain": [
       "      ID CONSOLE  YEAR CATEGORY       PUBLISHER RATING  CRITICS_POINTS  \\\n",
       "3257  20    xone  2016   action  Telltale Games      M        2.058824   \n",
       "3351  20     ps4  2016   action  Telltale Games      M        2.812500   \n",
       "\n",
       "      USER_POINTS  SalesInMillions  Total_Points  ...  RAT_CON_CAT_P_mean  \\\n",
       "3257     0.068831         0.435865      2.127655  ...            5.219601   \n",
       "3351     0.040136         0.665867      2.852636  ...            2.498864   \n",
       "\n",
       "      RAT_CON_CAT_P_max  RAT_CON_CAT_P_sum  RAT_CON_CAT_P_min  \\\n",
       "3257          14.221429          62.635215           1.137907   \n",
       "3351          12.037736          52.476153           0.844887   \n",
       "\n",
       "      RAT_CON_CAT_P_count  RAT_CON_CAT_OLD_P_mean  RAT_CON_CAT_OLD_P_max  \\\n",
       "3257                   12                4.758178               6.938778   \n",
       "3351                   21                3.326859              12.037736   \n",
       "\n",
       "      RAT_CON_CAT_OLD_P_min  RAT_CON_CAT_OLD_P_count  RAT_PUB_TP  \n",
       "3257               2.127655                        3    6.240097  \n",
       "3351               0.883267                        6    6.240097  \n",
       "\n",
       "[2 rows x 22 columns]"
      ]
     },
     "execution_count": 1768,
     "metadata": {},
     "output_type": "execute_result"
    }
   ],
   "source": [
    "train.groupby(['ID']).get_group(20)"
   ]
  },
  {
   "cell_type": "markdown",
   "metadata": {},
   "source": [
    "# YEAR"
   ]
  },
  {
   "cell_type": "code",
   "execution_count": 1769,
   "metadata": {},
   "outputs": [],
   "source": [
    "df=pd.concat([train,test],axis=0)\n",
    "df.reset_index(drop=True,inplace=True)"
   ]
  },
  {
   "cell_type": "code",
   "execution_count": 1770,
   "metadata": {},
   "outputs": [],
   "source": [
    "df['game_launch'] = df.groupby(['YEAR', 'PUBLISHER'])['ID'].transform('count')\n",
    "\n",
    "#df['game_launch_min_price'] = df.groupby(['YEAR', 'PUBLISHER'])['SalesInMillions'].transform('min')\n",
    "#df['game_launch_max_price'] = df.groupby(['YEAR', 'PUBLISHER'])['SalesInMillions'].transform('max')\n",
    "#df['game_launch_sum_price'] = df.groupby(['YEAR', 'PUBLISHER'])['SalesInMillions'].transform('sum')\n",
    "\n",
    "#df.game_launch_min_price.fillna(-999, inplace = True)\n",
    "#df.game_launch_max_price.fillna(-999, inplace = True)\n",
    "#df.game_launch_sum_price.fillna(-999, inplace = True)"
   ]
  },
  {
   "cell_type": "code",
   "execution_count": 1771,
   "metadata": {},
   "outputs": [],
   "source": [
    "#df['Critic_max']=df.groupby(['YEAR','PUBLISHER'])[['CRITICS_POINTS']].transform('max')\n",
    "#df['Critic_min']=df.groupby(['YEAR','PUBLISHER'])[['CRITICS_POINTS']].transform('min')\n",
    "#df['Critic_mean']=df.groupby(['YEAR','PUBLISHER'])[['CRITICS_POINTS']].transform('mean')\n",
    "#df['Critic_count']=df.groupby(['YEAR','PUBLISHER'])[['CRITICS_POINTS']].transform('count')"
   ]
  },
  {
   "cell_type": "code",
   "execution_count": 1772,
   "metadata": {},
   "outputs": [],
   "source": [
    "df['Public_max']=df.groupby(['YEAR','PUBLISHER'])[['USER_POINTS']].transform('max')\n",
    "df['Public_min']=df.groupby(['YEAR','PUBLISHER'])[['USER_POINTS']].transform('min')\n",
    "df['Public_sum']=df.groupby(['YEAR','PUBLISHER'])[['USER_POINTS']].transform('sum')\n",
    "df['Public_mean']=df.groupby(['YEAR','PUBLISHER'])[['USER_POINTS']].transform('mean')\n",
    "df['Public_count']=df.groupby(['YEAR','PUBLISHER'])[['USER_POINTS']].transform('count')"
   ]
  },
  {
   "cell_type": "markdown",
   "metadata": {},
   "source": [
    "df['prev_id_mean'] = df.sort_values('OLD').groupby(['ID'])['SalesInMillions'].mean()\n",
    "df['prev_pub_mean'] = df.sort_values('OLD').groupby(['PUBLISHER'])['SalesInMillions'].mean()\n",
    "df['prev_con_mean'] = df.sort_values('OLD').groupby(['CONSOLE'])['SalesInMillions'].mean()\n",
    "df['prev_cat_mean'] = df.sort_values('OLD').groupby(['CATEGORY'])['SalesInMillions'].mean()\n",
    "\n",
    "df['prev_id_max'] = df.sort_values('OLD').groupby(['ID'])['SalesInMillions'].max()\n",
    "df['prev_pub_max'] = df.sort_values('OLD').groupby(['PUBLISHER'])['SalesInMillions'].max()\n",
    "df['prev_con_max'] = df.sort_values('OLD').groupby(['CONSOLE'])['SalesInMillions'].max()\n",
    "df['prev_cat_max'] = df.sort_values('OLD').groupby(['CATEGORY'])['SalesInMillions'].max()\n",
    "\n",
    "df['prev_id_min'] = df.sort_values('OLD').groupby(['ID'])['SalesInMillions'].min()\n",
    "df['prev_pub_min'] = df.sort_values('OLD').groupby(['PUBLISHER'])['SalesInMillions'].min()\n",
    "df['prev_con_min'] = df.sort_values('OLD').groupby(['CONSOLE'])['SalesInMillions'].min()\n",
    "df['prev_cat_min'] = df.sort_values('OLD').groupby(['CATEGORY'])['SalesInMillions'].min()\n",
    "\n",
    "df['prev_id_count'] = df.sort_values('OLD').groupby(['ID'])['SalesInMillions'].count()\n",
    "df['prev_pub_count'] = df.sort_values('OLD').groupby(['PUBLISHER'])['SalesInMillions'].count()\n",
    "df['prev_con_count'] = df.sort_values('OLD').groupby(['CONSOLE'])['SalesInMillions'].count()\n",
    "df['prev_cat_count'] = df.sort_values('OLD').groupby(['CATEGORY'])['SalesInMillions'].count()\n",
    "\n",
    "df.sort_index(inplace = True)\n",
    "\n",
    "df.prev_id_mean.fillna(-999, inplace = True)\n",
    "df.prev_pub_mean.fillna(-999, inplace = True)\n",
    "df.prev_con_mean.fillna(-999, inplace = True)\n",
    "df.prev_cat_mean.fillna(-999, inplace = True)\n",
    "\n",
    "df.prev_id_max.fillna(-999, inplace = True)\n",
    "df.prev_pub_max.fillna(-999, inplace = True)\n",
    "df.prev_con_max.fillna(-999, inplace = True)\n",
    "df.prev_cat_max.fillna(-999, inplace = True)\n",
    "\n",
    "df.prev_id_min.fillna(-999, inplace = True)\n",
    "df.prev_pub_min.fillna(-999, inplace = True)\n",
    "df.prev_con_min.fillna(-999, inplace = True)\n",
    "df.prev_cat_min.fillna(-999, inplace = True)\n",
    "\n",
    "df.prev_id_count.fillna(-999, inplace = True)\n",
    "df.prev_pub_count.fillna(-999, inplace = True)\n",
    "df.prev_con_count.fillna(-999, inplace = True)\n",
    "df.prev_cat_count.fillna(-999, inplace = True)"
   ]
  },
  {
   "cell_type": "code",
   "execution_count": 1773,
   "metadata": {},
   "outputs": [
    {
     "data": {
      "text/plain": [
       "((4999, 28), (3496, 22), (1503, 21))"
      ]
     },
     "execution_count": 1773,
     "metadata": {},
     "output_type": "execute_result"
    }
   ],
   "source": [
    "df.shape, train.shape, test.shape"
   ]
  },
  {
   "cell_type": "code",
   "execution_count": 1774,
   "metadata": {},
   "outputs": [],
   "source": [
    "test = df.iloc[train.shape[0]:,:]\n",
    "train = df.iloc[:train.shape[0],:]\n",
    "test.reset_index(drop=True,inplace=True)"
   ]
  },
  {
   "cell_type": "code",
   "execution_count": 1775,
   "metadata": {},
   "outputs": [],
   "source": [
    "le=LabelEncoder()\n",
    "test.YEAR = pd.DataFrame(le.fit_transform(test.YEAR),columns=['YEAR'])\n",
    "train.YEAR = pd.DataFrame(le.transform(train.YEAR),columns=['YEAR'])"
   ]
  },
  {
   "cell_type": "markdown",
   "metadata": {},
   "source": [
    "# CATEGORY"
   ]
  },
  {
   "cell_type": "code",
   "execution_count": 1776,
   "metadata": {},
   "outputs": [
    {
     "data": {
      "text/html": [
       "<div>\n",
       "<style scoped>\n",
       "    .dataframe tbody tr th:only-of-type {\n",
       "        vertical-align: middle;\n",
       "    }\n",
       "\n",
       "    .dataframe tbody tr th {\n",
       "        vertical-align: top;\n",
       "    }\n",
       "\n",
       "    .dataframe thead th {\n",
       "        text-align: right;\n",
       "    }\n",
       "</style>\n",
       "<table border=\"1\" class=\"dataframe\">\n",
       "  <thead>\n",
       "    <tr style=\"text-align: right;\">\n",
       "      <th></th>\n",
       "      <th>CATEGORY</th>\n",
       "      <th>CONSOLE</th>\n",
       "      <th>CRITICS_POINTS</th>\n",
       "      <th>Diff_Points</th>\n",
       "      <th>ID</th>\n",
       "      <th>OLD</th>\n",
       "      <th>PUBLISHER</th>\n",
       "      <th>RATING</th>\n",
       "      <th>RAT_CON_CAT_OLD_P_count</th>\n",
       "      <th>RAT_CON_CAT_OLD_P_max</th>\n",
       "      <th>...</th>\n",
       "      <th>SalesInMillions</th>\n",
       "      <th>Total_Points</th>\n",
       "      <th>USER_POINTS</th>\n",
       "      <th>YEAR</th>\n",
       "      <th>game_launch</th>\n",
       "      <th>Public_max</th>\n",
       "      <th>Public_min</th>\n",
       "      <th>Public_sum</th>\n",
       "      <th>Public_mean</th>\n",
       "      <th>Public_count</th>\n",
       "    </tr>\n",
       "  </thead>\n",
       "  <tbody>\n",
       "    <tr>\n",
       "      <th>0</th>\n",
       "      <td>role-playing</td>\n",
       "      <td>ds</td>\n",
       "      <td>2.833333</td>\n",
       "      <td>2.529630</td>\n",
       "      <td>2860</td>\n",
       "      <td>12</td>\n",
       "      <td>Nintendo</td>\n",
       "      <td>E</td>\n",
       "      <td>4</td>\n",
       "      <td>5.277778</td>\n",
       "      <td>...</td>\n",
       "      <td>1.022184</td>\n",
       "      <td>3.137037</td>\n",
       "      <td>0.303704</td>\n",
       "      <td>13</td>\n",
       "      <td>26</td>\n",
       "      <td>0.833333</td>\n",
       "      <td>0.005409</td>\n",
       "      <td>4.868992</td>\n",
       "      <td>0.187269</td>\n",
       "      <td>26</td>\n",
       "    </tr>\n",
       "    <tr>\n",
       "      <th>1</th>\n",
       "      <td>simulation</td>\n",
       "      <td>wii</td>\n",
       "      <td>13.200000</td>\n",
       "      <td>11.560000</td>\n",
       "      <td>731</td>\n",
       "      <td>8</td>\n",
       "      <td>Konami Digital Entertainment</td>\n",
       "      <td>E10+</td>\n",
       "      <td>1</td>\n",
       "      <td>14.840000</td>\n",
       "      <td>...</td>\n",
       "      <td>0.194785</td>\n",
       "      <td>14.840000</td>\n",
       "      <td>1.640000</td>\n",
       "      <td>17</td>\n",
       "      <td>10</td>\n",
       "      <td>1.640000</td>\n",
       "      <td>0.035294</td>\n",
       "      <td>6.444136</td>\n",
       "      <td>0.644414</td>\n",
       "      <td>10</td>\n",
       "    </tr>\n",
       "    <tr>\n",
       "      <th>2</th>\n",
       "      <td>shooter</td>\n",
       "      <td>pc</td>\n",
       "      <td>4.562500</td>\n",
       "      <td>4.556090</td>\n",
       "      <td>495</td>\n",
       "      <td>1</td>\n",
       "      <td>Activision</td>\n",
       "      <td>M</td>\n",
       "      <td>1</td>\n",
       "      <td>4.568910</td>\n",
       "      <td>...</td>\n",
       "      <td>0.428140</td>\n",
       "      <td>4.568910</td>\n",
       "      <td>0.006410</td>\n",
       "      <td>24</td>\n",
       "      <td>6</td>\n",
       "      <td>0.221429</td>\n",
       "      <td>0.006410</td>\n",
       "      <td>0.410646</td>\n",
       "      <td>0.068441</td>\n",
       "      <td>6</td>\n",
       "    </tr>\n",
       "    <tr>\n",
       "      <th>3</th>\n",
       "      <td>sports</td>\n",
       "      <td>ps2</td>\n",
       "      <td>4.181818</td>\n",
       "      <td>3.854895</td>\n",
       "      <td>2641</td>\n",
       "      <td>18</td>\n",
       "      <td>Electronic Arts</td>\n",
       "      <td>E</td>\n",
       "      <td>8</td>\n",
       "      <td>8.385714</td>\n",
       "      <td>...</td>\n",
       "      <td>0.868765</td>\n",
       "      <td>4.508741</td>\n",
       "      <td>0.326923</td>\n",
       "      <td>7</td>\n",
       "      <td>27</td>\n",
       "      <td>1.760000</td>\n",
       "      <td>0.101163</td>\n",
       "      <td>16.456204</td>\n",
       "      <td>0.609489</td>\n",
       "      <td>27</td>\n",
       "    </tr>\n",
       "    <tr>\n",
       "      <th>4</th>\n",
       "      <td>action</td>\n",
       "      <td>ps3</td>\n",
       "      <td>2.259259</td>\n",
       "      <td>2.226680</td>\n",
       "      <td>811</td>\n",
       "      <td>7</td>\n",
       "      <td>Activision</td>\n",
       "      <td>M</td>\n",
       "      <td>10</td>\n",
       "      <td>2.291838</td>\n",
       "      <td>...</td>\n",
       "      <td>0.079431</td>\n",
       "      <td>2.291838</td>\n",
       "      <td>0.032579</td>\n",
       "      <td>18</td>\n",
       "      <td>15</td>\n",
       "      <td>2.250000</td>\n",
       "      <td>0.002357</td>\n",
       "      <td>4.919859</td>\n",
       "      <td>0.327991</td>\n",
       "      <td>15</td>\n",
       "    </tr>\n",
       "  </tbody>\n",
       "</table>\n",
       "<p>5 rows × 28 columns</p>\n",
       "</div>"
      ],
      "text/plain": [
       "       CATEGORY CONSOLE  CRITICS_POINTS  Diff_Points    ID  OLD  \\\n",
       "0  role-playing      ds        2.833333     2.529630  2860   12   \n",
       "1    simulation     wii       13.200000    11.560000   731    8   \n",
       "2       shooter      pc        4.562500     4.556090   495    1   \n",
       "3        sports     ps2        4.181818     3.854895  2641   18   \n",
       "4        action     ps3        2.259259     2.226680   811    7   \n",
       "\n",
       "                      PUBLISHER RATING  RAT_CON_CAT_OLD_P_count  \\\n",
       "0                      Nintendo      E                        4   \n",
       "1  Konami Digital Entertainment   E10+                        1   \n",
       "2                    Activision      M                        1   \n",
       "3               Electronic Arts      E                        8   \n",
       "4                    Activision      M                       10   \n",
       "\n",
       "   RAT_CON_CAT_OLD_P_max  ...  SalesInMillions  Total_Points  USER_POINTS  \\\n",
       "0               5.277778  ...         1.022184      3.137037     0.303704   \n",
       "1              14.840000  ...         0.194785     14.840000     1.640000   \n",
       "2               4.568910  ...         0.428140      4.568910     0.006410   \n",
       "3               8.385714  ...         0.868765      4.508741     0.326923   \n",
       "4               2.291838  ...         0.079431      2.291838     0.032579   \n",
       "\n",
       "   YEAR  game_launch  Public_max  Public_min  Public_sum  Public_mean  \\\n",
       "0    13           26    0.833333    0.005409    4.868992     0.187269   \n",
       "1    17           10    1.640000    0.035294    6.444136     0.644414   \n",
       "2    24            6    0.221429    0.006410    0.410646     0.068441   \n",
       "3     7           27    1.760000    0.101163   16.456204     0.609489   \n",
       "4    18           15    2.250000    0.002357    4.919859     0.327991   \n",
       "\n",
       "   Public_count  \n",
       "0            26  \n",
       "1            10  \n",
       "2             6  \n",
       "3            27  \n",
       "4            15  \n",
       "\n",
       "[5 rows x 28 columns]"
      ]
     },
     "execution_count": 1776,
     "metadata": {},
     "output_type": "execute_result"
    }
   ],
   "source": [
    "train.head()"
   ]
  },
  {
   "cell_type": "code",
   "execution_count": 1777,
   "metadata": {
    "scrolled": true
   },
   "outputs": [
    {
     "data": {
      "text/plain": [
       "action          845\n",
       "sports          462\n",
       "shooter         441\n",
       "role-playing    379\n",
       "racing          294\n",
       "misc            220\n",
       "platform        217\n",
       "fighting        187\n",
       "simulation      149\n",
       "strategy        130\n",
       "adventure       113\n",
       "puzzle           59\n",
       "Name: CATEGORY, dtype: int64"
      ]
     },
     "execution_count": 1777,
     "metadata": {},
     "output_type": "execute_result"
    }
   ],
   "source": [
    "train.CATEGORY.value_counts()"
   ]
  },
  {
   "cell_type": "code",
   "execution_count": null,
   "metadata": {},
   "outputs": [],
   "source": []
  },
  {
   "cell_type": "code",
   "execution_count": 1778,
   "metadata": {},
   "outputs": [],
   "source": [
    "#train = pd.concat([train,pd.get_dummies(train.CATEGORY)],axis=1)\n",
    "#test = pd.concat([test,pd.get_dummies(test.CATEGORY)],axis=1)\n",
    "train.drop(columns=['CATEGORY'], inplace=True)\n",
    "test.drop(columns=['CATEGORY'], inplace=True)"
   ]
  },
  {
   "cell_type": "markdown",
   "metadata": {},
   "source": [
    "# PUBLISHER"
   ]
  },
  {
   "cell_type": "code",
   "execution_count": 1779,
   "metadata": {},
   "outputs": [
    {
     "data": {
      "text/plain": [
       "128"
      ]
     },
     "execution_count": 1779,
     "metadata": {},
     "output_type": "execute_result"
    }
   ],
   "source": [
    "test.PUBLISHER.nunique()"
   ]
  },
  {
   "cell_type": "code",
   "execution_count": 1780,
   "metadata": {},
   "outputs": [],
   "source": [
    "#all_text = train.PUBLISHER.tolist()+test.PUBLISHER.tolist()"
   ]
  },
  {
   "cell_type": "code",
   "execution_count": 1781,
   "metadata": {},
   "outputs": [],
   "source": [
    "#from sklearn.feature_extraction.text import TfidfVectorizer, CountVectorizer\n",
    "#tfidf = TfidfVectorizer(ngram_range=(1,2), stop_words='english', lowercase=True, analyzer='word')\n",
    "#tfidf.fit(all_text)\n",
    "#train = pd.concat([pd.DataFrame(tfidf.transform(train.PUBLISHER).toarray()), train], axis = 1)\n",
    "#test = pd.concat([pd.DataFrame(tfidf.transform(test.PUBLISHER).toarray()), test], axis = 1)"
   ]
  },
  {
   "cell_type": "code",
   "execution_count": 1782,
   "metadata": {},
   "outputs": [
    {
     "data": {
      "text/plain": [
       "((3496, 27), (1503, 27))"
      ]
     },
     "execution_count": 1782,
     "metadata": {},
     "output_type": "execute_result"
    }
   ],
   "source": [
    "train.shape, test.shape"
   ]
  },
  {
   "cell_type": "code",
   "execution_count": 1783,
   "metadata": {},
   "outputs": [],
   "source": [
    "a1=set(train.PUBLISHER).difference(set(test.PUBLISHER))\n",
    "a2=set(test.PUBLISHER).difference(set(train.PUBLISHER))\n",
    "train.PUBLISHER=train.PUBLISHER.apply(lambda x : 'Other' if x in a1 else x )\n",
    "test.PUBLISHER=test.PUBLISHER.apply(lambda x : 'Other' if x in a2 else x )\n",
    "\n",
    "df['pub_console'] = df.groupby(['PUBLISHER'])['CONSOLE'].transform('count')\n",
    "#train['RAT_MIN']=train.groupby(['PUBLISHER','RATING'])[['USER_POINTS']].transform('min')\n",
    "#test['RAT_MIN']=test.groupby(['PUBLISHER','RATING'])[['USER_POINTS']].transform('min')\n",
    "#train['RAT_MAX']=train.groupby(['PUBLISHER','RATING'])[['USER_POINTS']].transform('max')\n",
    "#test['RAT_MAX']=test.groupby(['PUBLISHER','RATING'])[['USER_POINTS']].transform('max')\n",
    "#train['RAT_MEAN']=train.groupby(['PUBLISHER','RATING'])[['USER_POINTS']].transform('mean')\n",
    "#test['RAT_MEAN']=test.groupby(['PUBLISHER','RATING'])[['USER_POINTS']].transform('mean')"
   ]
  },
  {
   "cell_type": "code",
   "execution_count": 1784,
   "metadata": {},
   "outputs": [],
   "source": [
    "#train = pd.concat([train,pd.get_dummies(train.PUBLISHER)],axis=1)\n",
    "#test = pd.concat([test,pd.get_dummies(test.PUBLISHER)],axis=1)\n",
    "train.drop(columns=['PUBLISHER'], inplace=True)\n",
    "test.drop(columns=['PUBLISHER'], inplace=True)"
   ]
  },
  {
   "cell_type": "code",
   "execution_count": 1785,
   "metadata": {},
   "outputs": [],
   "source": [
    "#le = LabelEncoder()\n",
    "#train['PUBLISHER'] = pd.DataFrame(le.fit_transform(train.PUBLISHER),columns=['PUBLISHER'])\n",
    "#test['PUBLISHER'] = pd.DataFrame(le.transform(test.PUBLISHER),columns=['PUBLISHER'])"
   ]
  },
  {
   "cell_type": "code",
   "execution_count": 1786,
   "metadata": {},
   "outputs": [],
   "source": [
    "#train.drop(columns=['PUBLISHER'],inplace=True)\n",
    "#test.drop(columns=['PUBLISHER'],inplace=True)"
   ]
  },
  {
   "cell_type": "code",
   "execution_count": 1787,
   "metadata": {},
   "outputs": [
    {
     "data": {
      "text/plain": [
       "((3496, 26), (1503, 26))"
      ]
     },
     "execution_count": 1787,
     "metadata": {},
     "output_type": "execute_result"
    }
   ],
   "source": [
    "train.shape,test.shape"
   ]
  },
  {
   "cell_type": "markdown",
   "metadata": {},
   "source": [
    "# RATING"
   ]
  },
  {
   "cell_type": "code",
   "execution_count": 1788,
   "metadata": {},
   "outputs": [
    {
     "data": {
      "text/plain": [
       "T       1180\n",
       "E       1056\n",
       "M        749\n",
       "E10+     511\n",
       "Name: RATING, dtype: int64"
      ]
     },
     "execution_count": 1788,
     "metadata": {},
     "output_type": "execute_result"
    }
   ],
   "source": [
    "train.RATING.value_counts()"
   ]
  },
  {
   "cell_type": "code",
   "execution_count": 1789,
   "metadata": {},
   "outputs": [],
   "source": [
    "train['Total_Rating_Points']=train.groupby(['RATING',])[['Total_Points']].transform('sum')\n",
    "test['Total_Rating_Points']=test.groupby(['RATING'])[['Total_Points']].transform('sum')\n",
    "\n",
    "train['Mean_Rating_Points']=train.groupby(['RATING'])[['Total_Points']].transform('mean')\n",
    "test['Mean_Rating_Points']=test.groupby(['RATING'])[['Total_Points']].transform('mean')\n",
    "\n",
    "train['Min_Rating_Points']=train.groupby(['RATING'])[['Total_Points']].transform('min')\n",
    "test['Min_Rating_Points']=test.groupby(['RATING'])[['Total_Points']].transform('min')\n",
    "\n",
    "train['No._Rating_Points']=train.groupby(['RATING'])[['Total_Points']].transform('count')\n",
    "test['No._Rating_Points']=test.groupby(['RATING'])[['Total_Points']].transform('count')"
   ]
  },
  {
   "cell_type": "code",
   "execution_count": 1790,
   "metadata": {},
   "outputs": [],
   "source": [
    "#le=LabelEncoder()\n",
    "#train.RATING=pd.DataFrame(le.fit_transform(train.RATING),columns=['RATING'])\n",
    "#test.RATING=pd.DataFrame(le.transform(test.RATING),columns=['RATING'])"
   ]
  },
  {
   "cell_type": "code",
   "execution_count": 1791,
   "metadata": {},
   "outputs": [],
   "source": [
    "#train = pd.concat([train,pd.get_dummies(train.RATING)],axis=1)\n",
    "#test = pd.concat([test,pd.get_dummies(test.RATING)],axis=1)\n",
    "train.drop(columns=['RATING'],inplace=True)\n",
    "test.drop(columns=['RATING'],inplace=True)"
   ]
  },
  {
   "cell_type": "code",
   "execution_count": 1792,
   "metadata": {},
   "outputs": [
    {
     "data": {
      "text/plain": [
       "((3496, 29), (1503, 29))"
      ]
     },
     "execution_count": 1792,
     "metadata": {},
     "output_type": "execute_result"
    }
   ],
   "source": [
    "train.shape,test.shape"
   ]
  },
  {
   "cell_type": "code",
   "execution_count": 1793,
   "metadata": {
    "scrolled": true
   },
   "outputs": [
    {
     "data": {
      "text/html": [
       "<div>\n",
       "<style scoped>\n",
       "    .dataframe tbody tr th:only-of-type {\n",
       "        vertical-align: middle;\n",
       "    }\n",
       "\n",
       "    .dataframe tbody tr th {\n",
       "        vertical-align: top;\n",
       "    }\n",
       "\n",
       "    .dataframe thead th {\n",
       "        text-align: right;\n",
       "    }\n",
       "</style>\n",
       "<table border=\"1\" class=\"dataframe\">\n",
       "  <thead>\n",
       "    <tr style=\"text-align: right;\">\n",
       "      <th></th>\n",
       "      <th>CONSOLE</th>\n",
       "      <th>CRITICS_POINTS</th>\n",
       "      <th>Diff_Points</th>\n",
       "      <th>ID</th>\n",
       "      <th>OLD</th>\n",
       "      <th>RAT_CON_CAT_OLD_P_count</th>\n",
       "      <th>RAT_CON_CAT_OLD_P_max</th>\n",
       "      <th>RAT_CON_CAT_OLD_P_mean</th>\n",
       "      <th>RAT_CON_CAT_OLD_P_min</th>\n",
       "      <th>RAT_CON_CAT_P_count</th>\n",
       "      <th>...</th>\n",
       "      <th>game_launch</th>\n",
       "      <th>Public_max</th>\n",
       "      <th>Public_min</th>\n",
       "      <th>Public_sum</th>\n",
       "      <th>Public_mean</th>\n",
       "      <th>Public_count</th>\n",
       "      <th>Total_Rating_Points</th>\n",
       "      <th>Mean_Rating_Points</th>\n",
       "      <th>Min_Rating_Points</th>\n",
       "      <th>No._Rating_Points</th>\n",
       "    </tr>\n",
       "  </thead>\n",
       "  <tbody>\n",
       "    <tr>\n",
       "      <th>0</th>\n",
       "      <td>ds</td>\n",
       "      <td>2.833333</td>\n",
       "      <td>2.529630</td>\n",
       "      <td>2860</td>\n",
       "      <td>12</td>\n",
       "      <td>4</td>\n",
       "      <td>5.277778</td>\n",
       "      <td>3.429119</td>\n",
       "      <td>1.943328</td>\n",
       "      <td>14</td>\n",
       "      <td>...</td>\n",
       "      <td>26</td>\n",
       "      <td>0.833333</td>\n",
       "      <td>0.005409</td>\n",
       "      <td>4.868992</td>\n",
       "      <td>0.187269</td>\n",
       "      <td>26</td>\n",
       "      <td>5433.716214</td>\n",
       "      <td>5.145565</td>\n",
       "      <td>0.925275</td>\n",
       "      <td>1056</td>\n",
       "    </tr>\n",
       "    <tr>\n",
       "      <th>1</th>\n",
       "      <td>wii</td>\n",
       "      <td>13.200000</td>\n",
       "      <td>11.560000</td>\n",
       "      <td>731</td>\n",
       "      <td>8</td>\n",
       "      <td>1</td>\n",
       "      <td>14.840000</td>\n",
       "      <td>14.840000</td>\n",
       "      <td>14.840000</td>\n",
       "      <td>2</td>\n",
       "      <td>...</td>\n",
       "      <td>10</td>\n",
       "      <td>1.640000</td>\n",
       "      <td>0.035294</td>\n",
       "      <td>6.444136</td>\n",
       "      <td>0.644414</td>\n",
       "      <td>10</td>\n",
       "      <td>2651.111809</td>\n",
       "      <td>5.188086</td>\n",
       "      <td>0.656627</td>\n",
       "      <td>511</td>\n",
       "    </tr>\n",
       "    <tr>\n",
       "      <th>2</th>\n",
       "      <td>pc</td>\n",
       "      <td>4.562500</td>\n",
       "      <td>4.556090</td>\n",
       "      <td>495</td>\n",
       "      <td>1</td>\n",
       "      <td>1</td>\n",
       "      <td>4.568910</td>\n",
       "      <td>4.568910</td>\n",
       "      <td>4.568910</td>\n",
       "      <td>46</td>\n",
       "      <td>...</td>\n",
       "      <td>6</td>\n",
       "      <td>0.221429</td>\n",
       "      <td>0.006410</td>\n",
       "      <td>0.410646</td>\n",
       "      <td>0.068441</td>\n",
       "      <td>6</td>\n",
       "      <td>2046.961117</td>\n",
       "      <td>2.732925</td>\n",
       "      <td>0.578986</td>\n",
       "      <td>749</td>\n",
       "    </tr>\n",
       "    <tr>\n",
       "      <th>3</th>\n",
       "      <td>ps2</td>\n",
       "      <td>4.181818</td>\n",
       "      <td>3.854895</td>\n",
       "      <td>2641</td>\n",
       "      <td>18</td>\n",
       "      <td>8</td>\n",
       "      <td>8.385714</td>\n",
       "      <td>5.506518</td>\n",
       "      <td>4.327778</td>\n",
       "      <td>98</td>\n",
       "      <td>...</td>\n",
       "      <td>27</td>\n",
       "      <td>1.760000</td>\n",
       "      <td>0.101163</td>\n",
       "      <td>16.456204</td>\n",
       "      <td>0.609489</td>\n",
       "      <td>27</td>\n",
       "      <td>5433.716214</td>\n",
       "      <td>5.145565</td>\n",
       "      <td>0.925275</td>\n",
       "      <td>1056</td>\n",
       "    </tr>\n",
       "    <tr>\n",
       "      <th>4</th>\n",
       "      <td>ps3</td>\n",
       "      <td>2.259259</td>\n",
       "      <td>2.226680</td>\n",
       "      <td>811</td>\n",
       "      <td>7</td>\n",
       "      <td>10</td>\n",
       "      <td>2.291838</td>\n",
       "      <td>1.802364</td>\n",
       "      <td>0.914178</td>\n",
       "      <td>56</td>\n",
       "      <td>...</td>\n",
       "      <td>15</td>\n",
       "      <td>2.250000</td>\n",
       "      <td>0.002357</td>\n",
       "      <td>4.919859</td>\n",
       "      <td>0.327991</td>\n",
       "      <td>15</td>\n",
       "      <td>2046.961117</td>\n",
       "      <td>2.732925</td>\n",
       "      <td>0.578986</td>\n",
       "      <td>749</td>\n",
       "    </tr>\n",
       "  </tbody>\n",
       "</table>\n",
       "<p>5 rows × 29 columns</p>\n",
       "</div>"
      ],
      "text/plain": [
       "  CONSOLE  CRITICS_POINTS  Diff_Points    ID  OLD  RAT_CON_CAT_OLD_P_count  \\\n",
       "0      ds        2.833333     2.529630  2860   12                        4   \n",
       "1     wii       13.200000    11.560000   731    8                        1   \n",
       "2      pc        4.562500     4.556090   495    1                        1   \n",
       "3     ps2        4.181818     3.854895  2641   18                        8   \n",
       "4     ps3        2.259259     2.226680   811    7                       10   \n",
       "\n",
       "   RAT_CON_CAT_OLD_P_max  RAT_CON_CAT_OLD_P_mean  RAT_CON_CAT_OLD_P_min  \\\n",
       "0               5.277778                3.429119               1.943328   \n",
       "1              14.840000               14.840000              14.840000   \n",
       "2               4.568910                4.568910               4.568910   \n",
       "3               8.385714                5.506518               4.327778   \n",
       "4               2.291838                1.802364               0.914178   \n",
       "\n",
       "   RAT_CON_CAT_P_count  ...  game_launch  Public_max  Public_min  Public_sum  \\\n",
       "0                   14  ...           26    0.833333    0.005409    4.868992   \n",
       "1                    2  ...           10    1.640000    0.035294    6.444136   \n",
       "2                   46  ...            6    0.221429    0.006410    0.410646   \n",
       "3                   98  ...           27    1.760000    0.101163   16.456204   \n",
       "4                   56  ...           15    2.250000    0.002357    4.919859   \n",
       "\n",
       "   Public_mean  Public_count  Total_Rating_Points  Mean_Rating_Points  \\\n",
       "0     0.187269            26          5433.716214            5.145565   \n",
       "1     0.644414            10          2651.111809            5.188086   \n",
       "2     0.068441             6          2046.961117            2.732925   \n",
       "3     0.609489            27          5433.716214            5.145565   \n",
       "4     0.327991            15          2046.961117            2.732925   \n",
       "\n",
       "   Min_Rating_Points  No._Rating_Points  \n",
       "0           0.925275               1056  \n",
       "1           0.656627                511  \n",
       "2           0.578986                749  \n",
       "3           0.925275               1056  \n",
       "4           0.578986                749  \n",
       "\n",
       "[5 rows x 29 columns]"
      ]
     },
     "execution_count": 1793,
     "metadata": {},
     "output_type": "execute_result"
    }
   ],
   "source": [
    "train.head()"
   ]
  },
  {
   "cell_type": "code",
   "execution_count": 1794,
   "metadata": {
    "scrolled": true
   },
   "outputs": [
    {
     "data": {
      "text/plain": [
       "((3496, 29), (1503, 29))"
      ]
     },
     "execution_count": 1794,
     "metadata": {},
     "output_type": "execute_result"
    }
   ],
   "source": [
    "train.shape,test.shape"
   ]
  },
  {
   "cell_type": "markdown",
   "metadata": {},
   "source": [
    "# CONSOLE"
   ]
  },
  {
   "cell_type": "code",
   "execution_count": 1795,
   "metadata": {},
   "outputs": [],
   "source": [
    "#train = pd.concat([train,pd.get_dummies(train.CONSOLE,drop_first=True)],axis=1)\n",
    "#test = pd.concat([test,pd.get_dummies(test.CONSOLE,drop_first=True)],axis=1)\n",
    "train.drop(columns=['CONSOLE','YEAR',],inplace=True)\n",
    "test.drop(columns=['CONSOLE','YEAR'],inplace=True)"
   ]
  },
  {
   "cell_type": "code",
   "execution_count": 1796,
   "metadata": {},
   "outputs": [],
   "source": [
    "label = train.SalesInMillions\n",
    "test.drop(columns=['SalesInMillions'],inplace=True)\n",
    "train.drop(columns=['SalesInMillions'],inplace=True)"
   ]
  },
  {
   "cell_type": "code",
   "execution_count": 1797,
   "metadata": {},
   "outputs": [],
   "source": [
    "def kfold(model,train,label,test,split,rnd_st):\n",
    "    val_mean=[]\n",
    "    tr_mean=[]\n",
    "    prediction_test=pd.DataFrame(np.zeros(shape=(test.shape[0],split)))\n",
    "    splitter=KFold(n_splits=split , random_state=rnd_st)\n",
    "                        \n",
    "    for i,(tr_index,val_index) in enumerate(splitter.split(train,label)):\n",
    "        x_train , y_train = train.loc[tr_index,:] , label[tr_index]\n",
    "        x_val , y_val = train.loc[val_index,:] , label[val_index]\n",
    "                                 \n",
    "        model.fit(x_train,y_train)\n",
    "        tr_pred = model.predict(x_train)\n",
    "        te_pred = model.predict(x_val)\n",
    "        \n",
    "        prediction_test.iloc[:,i] = model.predict(test)    \n",
    "        tr_mean.append(np.sqrt(mean_squared_error(np.exp(tr_pred)-1,np.exp(y_train)-1)))\n",
    "        val_mean.append(np.sqrt(mean_squared_error(np.exp(te_pred)-1,np.exp(y_val)-1)))\n",
    "        print('Training Loss : {} \\t\\t\\t Validation Loss : {}'.format(np.sqrt(mean_squared_error(np.exp(tr_pred)-1,np.exp(y_train)-1)), np.sqrt(mean_squared_error(np.exp(te_pred)-1,np.exp(y_val)-1))))    \n",
    "    print(np.mean(tr_mean),'\\t\\t' ,np.mean(val_mean))            \n",
    "    plt.figure(figsize = (18,40))\n",
    "    pd.Series(model.feature_importances_, index = train.columns).sort_values().plot.barh()\n",
    "    \n",
    "    return(np.exp(np.mean(prediction_test,axis=1))-1)"
   ]
  },
  {
   "cell_type": "code",
   "execution_count": 1798,
   "metadata": {},
   "outputs": [],
   "source": [
    "seed=907800"
   ]
  },
  {
   "cell_type": "code",
   "execution_count": 1800,
   "metadata": {
    "scrolled": true
   },
   "outputs": [
    {
     "name": "stdout",
     "output_type": "stream",
     "text": [
      "Training Loss : 0.7518892433349516 \t\t\t Validation Loss : 1.3647462434611033\n",
      "Training Loss : 0.7461923968288419 \t\t\t Validation Loss : 1.6767016965121415\n",
      "Training Loss : 0.7499836099576496 \t\t\t Validation Loss : 1.4522321529156452\n",
      "Training Loss : 0.7213290584355103 \t\t\t Validation Loss : 2.034205699190541\n",
      "Training Loss : 0.7150685680206981 \t\t\t Validation Loss : 2.092681412641361\n",
      "Training Loss : 0.7633910161363041 \t\t\t Validation Loss : 1.3631641297356432\n",
      "Training Loss : 0.7667993274751256 \t\t\t Validation Loss : 1.457599315292223\n",
      "Training Loss : 0.7367970799744685 \t\t\t Validation Loss : 1.579286540838677\n",
      "Training Loss : 0.7497451253564048 \t\t\t Validation Loss : 1.4537387505753834\n",
      "Training Loss : 0.7199865212338696 \t\t\t Validation Loss : 1.729739470769087\n",
      "0.7421181946753825 \t\t 1.6204095411931803\n"
     ]
    },
    {
     "data": {
      "image/png": "[encoded data removed]",
      "text/plain": [
       "<Figure size 1296x2880 with 1 Axes>"
      ]
     },
     "metadata": {
      "needs_background": "light"
     },
     "output_type": "display_data"
    }
   ],
   "source": [
    "pred = kfold(RandomForestRegressor(random_state=seed),train,label,test,10,seed)"
   ]
  },
  {
   "cell_type": "code",
   "execution_count": 1801,
   "metadata": {},
   "outputs": [],
   "source": [
    "sample['SalesInMillions'] = pred"
   ]
  },
  {
   "cell_type": "code",
   "execution_count": 1802,
   "metadata": {},
   "outputs": [
    {
     "data": {
      "text/html": [
       "<div>\n",
       "<style scoped>\n",
       "    .dataframe tbody tr th:only-of-type {\n",
       "        vertical-align: middle;\n",
       "    }\n",
       "\n",
       "    .dataframe tbody tr th {\n",
       "        vertical-align: top;\n",
       "    }\n",
       "\n",
       "    .dataframe thead th {\n",
       "        text-align: right;\n",
       "    }\n",
       "</style>\n",
       "<table border=\"1\" class=\"dataframe\">\n",
       "  <thead>\n",
       "    <tr style=\"text-align: right;\">\n",
       "      <th></th>\n",
       "      <th>SalesInMillions</th>\n",
       "    </tr>\n",
       "  </thead>\n",
       "  <tbody>\n",
       "    <tr>\n",
       "      <th>0</th>\n",
       "      <td>1.367751</td>\n",
       "    </tr>\n",
       "    <tr>\n",
       "      <th>1</th>\n",
       "      <td>1.985989</td>\n",
       "    </tr>\n",
       "    <tr>\n",
       "      <th>2</th>\n",
       "      <td>2.522273</td>\n",
       "    </tr>\n",
       "    <tr>\n",
       "      <th>3</th>\n",
       "      <td>1.705991</td>\n",
       "    </tr>\n",
       "    <tr>\n",
       "      <th>4</th>\n",
       "      <td>1.213726</td>\n",
       "    </tr>\n",
       "    <tr>\n",
       "      <th>5</th>\n",
       "      <td>1.643010</td>\n",
       "    </tr>\n",
       "    <tr>\n",
       "      <th>6</th>\n",
       "      <td>1.709578</td>\n",
       "    </tr>\n",
       "    <tr>\n",
       "      <th>7</th>\n",
       "      <td>1.409169</td>\n",
       "    </tr>\n",
       "    <tr>\n",
       "      <th>8</th>\n",
       "      <td>1.368623</td>\n",
       "    </tr>\n",
       "    <tr>\n",
       "      <th>9</th>\n",
       "      <td>1.312701</td>\n",
       "    </tr>\n",
       "    <tr>\n",
       "      <th>10</th>\n",
       "      <td>1.435272</td>\n",
       "    </tr>\n",
       "    <tr>\n",
       "      <th>11</th>\n",
       "      <td>3.101890</td>\n",
       "    </tr>\n",
       "    <tr>\n",
       "      <th>12</th>\n",
       "      <td>1.551841</td>\n",
       "    </tr>\n",
       "    <tr>\n",
       "      <th>13</th>\n",
       "      <td>1.516188</td>\n",
       "    </tr>\n",
       "    <tr>\n",
       "      <th>14</th>\n",
       "      <td>1.376428</td>\n",
       "    </tr>\n",
       "    <tr>\n",
       "      <th>15</th>\n",
       "      <td>1.567906</td>\n",
       "    </tr>\n",
       "    <tr>\n",
       "      <th>16</th>\n",
       "      <td>1.764250</td>\n",
       "    </tr>\n",
       "    <tr>\n",
       "      <th>17</th>\n",
       "      <td>1.661355</td>\n",
       "    </tr>\n",
       "    <tr>\n",
       "      <th>18</th>\n",
       "      <td>1.556414</td>\n",
       "    </tr>\n",
       "    <tr>\n",
       "      <th>19</th>\n",
       "      <td>2.732322</td>\n",
       "    </tr>\n",
       "    <tr>\n",
       "      <th>20</th>\n",
       "      <td>1.581027</td>\n",
       "    </tr>\n",
       "    <tr>\n",
       "      <th>21</th>\n",
       "      <td>1.516572</td>\n",
       "    </tr>\n",
       "    <tr>\n",
       "      <th>22</th>\n",
       "      <td>1.365327</td>\n",
       "    </tr>\n",
       "    <tr>\n",
       "      <th>23</th>\n",
       "      <td>2.197879</td>\n",
       "    </tr>\n",
       "    <tr>\n",
       "      <th>24</th>\n",
       "      <td>1.314809</td>\n",
       "    </tr>\n",
       "    <tr>\n",
       "      <th>25</th>\n",
       "      <td>1.713985</td>\n",
       "    </tr>\n",
       "    <tr>\n",
       "      <th>26</th>\n",
       "      <td>1.381632</td>\n",
       "    </tr>\n",
       "    <tr>\n",
       "      <th>27</th>\n",
       "      <td>1.438358</td>\n",
       "    </tr>\n",
       "    <tr>\n",
       "      <th>28</th>\n",
       "      <td>1.580884</td>\n",
       "    </tr>\n",
       "    <tr>\n",
       "      <th>29</th>\n",
       "      <td>2.193539</td>\n",
       "    </tr>\n",
       "    <tr>\n",
       "      <th>...</th>\n",
       "      <td>...</td>\n",
       "    </tr>\n",
       "    <tr>\n",
       "      <th>1473</th>\n",
       "      <td>1.633782</td>\n",
       "    </tr>\n",
       "    <tr>\n",
       "      <th>1474</th>\n",
       "      <td>3.454189</td>\n",
       "    </tr>\n",
       "    <tr>\n",
       "      <th>1475</th>\n",
       "      <td>1.752287</td>\n",
       "    </tr>\n",
       "    <tr>\n",
       "      <th>1476</th>\n",
       "      <td>1.041748</td>\n",
       "    </tr>\n",
       "    <tr>\n",
       "      <th>1477</th>\n",
       "      <td>1.405107</td>\n",
       "    </tr>\n",
       "    <tr>\n",
       "      <th>1478</th>\n",
       "      <td>1.858635</td>\n",
       "    </tr>\n",
       "    <tr>\n",
       "      <th>1479</th>\n",
       "      <td>1.957015</td>\n",
       "    </tr>\n",
       "    <tr>\n",
       "      <th>1480</th>\n",
       "      <td>1.260181</td>\n",
       "    </tr>\n",
       "    <tr>\n",
       "      <th>1481</th>\n",
       "      <td>2.283825</td>\n",
       "    </tr>\n",
       "    <tr>\n",
       "      <th>1482</th>\n",
       "      <td>1.643273</td>\n",
       "    </tr>\n",
       "    <tr>\n",
       "      <th>1483</th>\n",
       "      <td>1.710382</td>\n",
       "    </tr>\n",
       "    <tr>\n",
       "      <th>1484</th>\n",
       "      <td>1.590028</td>\n",
       "    </tr>\n",
       "    <tr>\n",
       "      <th>1485</th>\n",
       "      <td>1.397976</td>\n",
       "    </tr>\n",
       "    <tr>\n",
       "      <th>1486</th>\n",
       "      <td>1.469108</td>\n",
       "    </tr>\n",
       "    <tr>\n",
       "      <th>1487</th>\n",
       "      <td>1.624381</td>\n",
       "    </tr>\n",
       "    <tr>\n",
       "      <th>1488</th>\n",
       "      <td>2.299733</td>\n",
       "    </tr>\n",
       "    <tr>\n",
       "      <th>1489</th>\n",
       "      <td>2.063639</td>\n",
       "    </tr>\n",
       "    <tr>\n",
       "      <th>1490</th>\n",
       "      <td>1.054529</td>\n",
       "    </tr>\n",
       "    <tr>\n",
       "      <th>1491</th>\n",
       "      <td>1.598718</td>\n",
       "    </tr>\n",
       "    <tr>\n",
       "      <th>1492</th>\n",
       "      <td>1.387880</td>\n",
       "    </tr>\n",
       "    <tr>\n",
       "      <th>1493</th>\n",
       "      <td>1.547269</td>\n",
       "    </tr>\n",
       "    <tr>\n",
       "      <th>1494</th>\n",
       "      <td>1.666814</td>\n",
       "    </tr>\n",
       "    <tr>\n",
       "      <th>1495</th>\n",
       "      <td>1.470773</td>\n",
       "    </tr>\n",
       "    <tr>\n",
       "      <th>1496</th>\n",
       "      <td>1.414105</td>\n",
       "    </tr>\n",
       "    <tr>\n",
       "      <th>1497</th>\n",
       "      <td>1.633666</td>\n",
       "    </tr>\n",
       "    <tr>\n",
       "      <th>1498</th>\n",
       "      <td>1.668078</td>\n",
       "    </tr>\n",
       "    <tr>\n",
       "      <th>1499</th>\n",
       "      <td>1.606252</td>\n",
       "    </tr>\n",
       "    <tr>\n",
       "      <th>1500</th>\n",
       "      <td>1.244082</td>\n",
       "    </tr>\n",
       "    <tr>\n",
       "      <th>1501</th>\n",
       "      <td>1.507011</td>\n",
       "    </tr>\n",
       "    <tr>\n",
       "      <th>1502</th>\n",
       "      <td>3.195670</td>\n",
       "    </tr>\n",
       "  </tbody>\n",
       "</table>\n",
       "<p>1503 rows × 1 columns</p>\n",
       "</div>"
      ],
      "text/plain": [
       "      SalesInMillions\n",
       "0            1.367751\n",
       "1            1.985989\n",
       "2            2.522273\n",
       "3            1.705991\n",
       "4            1.213726\n",
       "5            1.643010\n",
       "6            1.709578\n",
       "7            1.409169\n",
       "8            1.368623\n",
       "9            1.312701\n",
       "10           1.435272\n",
       "11           3.101890\n",
       "12           1.551841\n",
       "13           1.516188\n",
       "14           1.376428\n",
       "15           1.567906\n",
       "16           1.764250\n",
       "17           1.661355\n",
       "18           1.556414\n",
       "19           2.732322\n",
       "20           1.581027\n",
       "21           1.516572\n",
       "22           1.365327\n",
       "23           2.197879\n",
       "24           1.314809\n",
       "25           1.713985\n",
       "26           1.381632\n",
       "27           1.438358\n",
       "28           1.580884\n",
       "29           2.193539\n",
       "...               ...\n",
       "1473         1.633782\n",
       "1474         3.454189\n",
       "1475         1.752287\n",
       "1476         1.041748\n",
       "1477         1.405107\n",
       "1478         1.858635\n",
       "1479         1.957015\n",
       "1480         1.260181\n",
       "1481         2.283825\n",
       "1482         1.643273\n",
       "1483         1.710382\n",
       "1484         1.590028\n",
       "1485         1.397976\n",
       "1486         1.469108\n",
       "1487         1.624381\n",
       "1488         2.299733\n",
       "1489         2.063639\n",
       "1490         1.054529\n",
       "1491         1.598718\n",
       "1492         1.387880\n",
       "1493         1.547269\n",
       "1494         1.666814\n",
       "1495         1.470773\n",
       "1496         1.414105\n",
       "1497         1.633666\n",
       "1498         1.668078\n",
       "1499         1.606252\n",
       "1500         1.244082\n",
       "1501         1.507011\n",
       "1502         3.195670\n",
       "\n",
       "[1503 rows x 1 columns]"
      ]
     },
     "execution_count": 1802,
     "metadata": {},
     "output_type": "execute_result"
    }
   ],
   "source": [
    "sample"
   ]
  },
  {
   "cell_type": "code",
   "execution_count": 1803,
   "metadata": {},
   "outputs": [],
   "source": [
    "sample.to_csv('GBR_DROP.csv',index=False)"
   ]
  },
  {
   "cell_type": "code",
   "execution_count": null,
   "metadata": {},
   "outputs": [],
   "source": []
  }
 ],
 "metadata": {
  "kernelspec": {
   "display_name": "Python 3",
   "language": "python",
   "name": "python3"
  },
  "language_info": {
   "codemirror_mode": {
    "name": "ipython",
    "version": 3
   },
   "file_extension": ".py",
   "mimetype": "text/x-python",
   "name": "python",
   "nbconvert_exporter": "python",
   "pygments_lexer": "ipython3",
   "version": "3.7.1"
  }
 },
 "nbformat": 4,
 "nbformat_minor": 4
}
